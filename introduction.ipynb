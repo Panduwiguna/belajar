{
 "cells": [
  {
   "cell_type": "markdown",
   "id": "e37a5b10-8b23-490e-b069-3e3ff7e3f8eb",
   "metadata": {},
   "source": [
    "<center><img src=\"https://th.bing.com/th/id/OIP.KnOS3vOcNhLla8LSZw4TugHaHa?w=188&h=188&c=7&r=0&o=5&pid=1.7\" width=\"200\"></center>\n",
    "<br> jenis cell di <b>Jupyter Notebooks</b> ada 2\n",
    "<ol>\n",
    "    <li>Mark Down (M)</li>\n",
    "    <Li>Code (Y)</Li>\n",
    "<ol>\n",
    "<hr>\n",
    "\n"
   ]
  },
  {
   "cell_type": "markdown",
   "id": "547bd23c-1a4f-4284-8e1c-dde79c05e6b8",
   "metadata": {},
   "source": [
    "cara menambah Cell ada 2:\n",
    "<ul>\n",
    "    <Li> Above (A) </Li>\n",
    "     <Li> Below (B) </Li>\n",
    "</ul>\n",
    "\n",
    "<table>\n",
    "    <tr>\n",
    "        <th>PERINTAH</th>\n",
    "        <th>KETERANGAN</th>\n",
    "    </tr>\n",
    "    <tr>\n",
    "        <td>ctrl + enter</td>\n",
    "        <td>Running dan fokos di cell</td>\n",
    "    </tr>\n",
    "    <tr>\n",
    "        <td>Shift + enter</td>\n",
    "        <td>Running dan fokus di cell berikutnya</td>\n",
    "    </tr>\n",
    "</table>"
   ]
  },
  {
   "cell_type": "raw",
   "id": "5292babc-9aa1-4603-aff4-fe12a157864a",
   "metadata": {},
   "source": [
    "print(\"PYTHON IS VERY EASY\")\n",
    "data = 5\n",
    "data2 = \"10\"\n",
    "print (data)\n",
    "print (\"sekarang hari jumat\")\n",
    "print('Deklarasikan variable \"A\"')\n",
    "print(data + int(data2))\n",
    "print(data2)\n",
    "data2\n",
    "data + 100\n",
    "\n"
   ]
  },
  {
   "cell_type": "code",
   "execution_count": 8,
   "id": "f39b5d6b-cc56-48e6-98c5-957473cdd3e2",
   "metadata": {},
   "outputs": [
    {
     "name": "stdout",
     "output_type": "stream",
     "text": [
      "nama : PANDU WIGUNA RUSWANDI\n",
      "umur : 19\n",
      "Alamat : Jl. Selabintana\n",
      "Provinsi : 7413412\n",
      "Nilai pemrograman : 90.5\n",
      "Status menikah : True\n"
     ]
    }
   ],
   "source": [
    "name = \"PANDU WIGUNA RUSWANDI\"\n",
    "age = 19\n",
    "address, province = \"Jl. Selabintana\", \"7413412\"\n",
    "pythonScore = 90.5\n",
    "isMarried = True\n",
    "\n",
    "print(\"nama :\",name)\n",
    "print(\"umur :\",age)\n",
    "print(\"Alamat :\",address)\n",
    "print(\"Provinsi :\",province) \n",
    "print(\"Nilai pemrograman :\",pythonScore)\n",
    "print(\"Status menikah :\",isMarried)"
   ]
  },
  {
   "cell_type": "code",
   "execution_count": 9,
   "id": "4da6f60a-f2dc-4510-8605-fb756b4c65fb",
   "metadata": {},
   "outputs": [
    {
     "name": "stdout",
     "output_type": "stream",
     "text": [
      "Type data (name) :  <class 'str'>\n",
      "Type data (age) :  <class 'int'>\n",
      "Type data (address) :  <class 'str'>\n",
      "Type data (province) :  <class 'str'>\n",
      "Type data (scorePythom) :  <class 'float'>\n",
      "Type data (isMarried) :  <class 'bool'>\n"
     ]
    }
   ],
   "source": [
    "print(\"Type data (name) : \", type(name))\n",
    "print(\"Type data (age) : \", type(age))\n",
    "print(\"Type data (address) : \", type(address))\n",
    "print(\"Type data (province) : \", type(province))\n",
    "print(\"Type data (scorePythom) : \", type(pythonScore))\n",
    "print(\"Type data (isMarried) : \", type(isMarried))"
   ]
  },
  {
   "cell_type": "code",
   "execution_count": null,
   "id": "de7fda9b-ddff-4730-b765-c1460d6bf5c8",
   "metadata": {},
   "outputs": [],
   "source": [
    "#Casting atau konversi Tipe Data\n",
    "\n",
    "strToInt = int(province)\n",
    "strToFloat = float(province)\n",
    "strToBool = bool(province)\n",
    "print(strToInt+2,strToFloat,strToBool)\n",
    "\n",
    "intTostr = str(age)\n",
    "intToFloat = float(age)\n",
    "intToBool = bool(age)\n",
    "print(intTostr,intToFloat, intToBool)\n",
    "\n",
    "floatTostr = str(pythonScore)\n",
    "floatToint = int(pythonScore)\n",
    "floatToBool = bool(pythonScore)\n",
    "print(floatTostr, floatToint, floatToBool)\n",
    "\n",
    "boolTostr = str(isMarried)\n",
    "boolToInt = int(isMarried)\n",
    "boolToFloat = float(isMarried)\n",
    "print(boolTostr, boolToInt, boolToFloat)"
   ]
  },
  {
   "cell_type": "code",
   "execution_count": 21,
   "id": "de62dcd0-f9c5-4455-be19-6744b8c7f9d6",
   "metadata": {},
   "outputs": [
    {
     "name": "stdout",
     "output_type": "stream",
     "text": [
      "B\n",
      "g\n"
     ]
    }
   ],
   "source": [
    "#String adalah kumpulan daribeberapa karakter dan immutable\n",
    "city = \"Bandung\"\n",
    "panjang = len(city)\n",
    "print(city[0])\n",
    "print(city[panjang-1])\n"
   ]
  },
  {
   "cell_type": "code",
   "execution_count": null,
   "id": "fd56a530-6d57-46ba-acbb-e47a0ae990bd",
   "metadata": {},
   "outputs": [],
   "source": [
    "desimal = 500\n",
    "biner = 0b1010\n",
    "octal = 0o377\n",
    "hexa = 0xff\n",
    "\n",
    "print(\"Niai desimal :\", desimal)\n",
    "print(\"Nilai biner :\", biner)\n",
    "print(\"Niai octal :\", octal)\n",
    "print(\"Nilai hexa :\", hexa)\n",
    "\n",
    "print(\"biner dari\",desimal,\":\",bin(desimal))\n",
    "print(\"octal dari\", desimal, \":\", oct(desimal))\n",
    "print(\"hexadesimal dari\", desimal, \":\" , hex(desimal))\n",
    "\n"
   ]
  },
  {
   "cell_type": "code",
   "execution_count": 36,
   "id": "f96893a6-f3cc-4e01-ab53-79e095b1fefb",
   "metadata": {},
   "outputs": [
    {
     "name": "stdout",
     "output_type": "stream",
     "text": [
      "['Sukabumi', 'Malang', 'Bandung']\n",
      "Sukabumi\n",
      "Bandung\n",
      "['Sukabumi', 'jakarta', 'Bandung']\n",
      "('Basket', 'Sholat', 'Football')\n",
      "Basket\n",
      "{'Name': 'Andi', 'Age': 20, 'address': {'street': 'cibolang kaler', 'number': 21, 'province': 'Kab.Sukabumi'}}\n",
      "Andi\n",
      "{'street': 'cibolang kaler', 'number': 21, 'province': 'Kab.Sukabumi'} ['province']\n"
     ]
    }
   ],
   "source": [
    "#tipe data collection\n",
    "cities = [\"Sukabumi\", \"Malang\" , \"Bandung\"]\n",
    "print(cities)\n",
    "print(cities[0])\n",
    "print(cities[len(cities)-1])\n",
    "cities[1] = \"jakarta\"\n",
    "print(cities) \n",
    "\n",
    "hobbies = (\"Basket\",\"Sholat\",\"Football\")\n",
    "print(hobbies)\n",
    "print(hobbies[0])\n",
    "\n",
    "#hobbies[0] = \"Watching netflix\" error program\n",
    "studentData = {\n",
    "    \"Name\" : \"Andi\",\n",
    "    \"Age\" : 20,\n",
    "    \"address\" : {\n",
    "          \"street\" : \"cibolang kaler\",\n",
    "          \"number\" : 21,\n",
    "          \"province\" : \"Kab.Sukabumi\"\n",
    "}\n",
    "}\n",
    "\n",
    "studentlist = [\n",
    "    {\n",
    "    \"Name\" : \"Andi\",\n",
    "    \"Age\" : 20,\n",
    "    \"address\" : {\n",
    "          \"street\" : \"cibolang kaler\",\n",
    "          \"number\" : 21,\n",
    "          \"province\" : \"Kab.Sukabumi\"\n",
    "    }\n",
    "},\n",
    "    {\n",
    "    \"Name\" : \"Bui\",\n",
    "    \"Age\" : 23,\n",
    "    \"address\" : {\n",
    "          \"street\" : \"Jl. hati-hati\",\n",
    "          \"number\" : 50,\n",
    "          \"province\" : \"Kab.Bogor\"\n",
    "}\n",
    "}\n",
    "]\n",
    "print(studentData)\n",
    "print(studentData[\"Name\"])\n",
    "print(studentData[\"address\"],[\"province\"])\n",
    "\n",
    "\n"
   ]
  },
  {
   "cell_type": "code",
   "execution_count": null,
   "id": "80497af3-aa1b-419e-a6fb-b0c833d05b93",
   "metadata": {},
   "outputs": [],
   "source": []
  },
  {
   "cell_type": "code",
   "execution_count": null,
   "id": "ac88e0b7-df60-41d3-a244-89eb3bd04968",
   "metadata": {},
   "outputs": [],
   "source": []
  },
  {
   "cell_type": "code",
   "execution_count": null,
   "id": "88ffb170-c6cb-4b4c-bb14-77e3d62977df",
   "metadata": {},
   "outputs": [],
   "source": []
  },
  {
   "cell_type": "code",
   "execution_count": null,
   "id": "3f8518a8-f85d-4902-8289-77dbac8885a6",
   "metadata": {},
   "outputs": [],
   "source": []
  }
 ],
 "metadata": {
  "kernelspec": {
   "display_name": "Python [conda env:base] *",
   "language": "python",
   "name": "conda-base-py"
  },
  "language_info": {
   "codemirror_mode": {
    "name": "ipython",
    "version": 3
   },
   "file_extension": ".py",
   "mimetype": "text/x-python",
   "name": "python",
   "nbconvert_exporter": "python",
   "pygments_lexer": "ipython3",
   "version": "3.12.9"
  }
 },
 "nbformat": 4,
 "nbformat_minor": 5
}
