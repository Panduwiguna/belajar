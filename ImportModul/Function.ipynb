{
 "cells": [
  {
   "cell_type": "code",
   "execution_count": 1,
   "id": "86593844-b76e-4f1f-a50e-eee6715f1ba4",
   "metadata": {},
   "outputs": [
    {
     "ename": "SyntaxError",
     "evalue": "invalid syntax (2354046138.py, line 1)",
     "output_type": "error",
     "traceback": [
      "\u001b[1;36m  Cell \u001b[1;32mIn[1], line 1\u001b[1;36m\u001b[0m\n\u001b[1;33m    function terbagi menjadi dua yaitu prosedur dan function\u001b[0m\n\u001b[1;37m             ^\u001b[0m\n\u001b[1;31mSyntaxError\u001b[0m\u001b[1;31m:\u001b[0m invalid syntax\n"
     ]
    }
   ],
   "source": [
    "function terbagi menjadi dua yaitu prosedur dan function\n",
    "sebuah program yang ditempatkan dalam sebuah blog untuk efisiensi sebuah program\n",
    "jadi kita gak perlu melakukan algoritma yang dilakukan secara berulang-ulang\n",
    "\n",
    "function= membrikan nilai balik(return value)\n",
    "prosedur = tidak ada return value dan didalamnya cuma ada print aja\n",
    "\n",
    "keyword dimulai dengan def definition\n",
    "\n",
    "\n"
   ]
  },
  {
   "cell_type": "code",
   "execution_count": 9,
   "id": "ff8f7a91-4837-4bd1-b12a-285e31ae6e5a",
   "metadata": {},
   "outputs": [
    {
     "name": "stdout",
     "output_type": "stream",
     "text": [
      "Hallo, apa kabar\n",
      "Hallo, apa kabar\n"
     ]
    }
   ],
   "source": [
    "#Fungsi tanpa parameter\n",
    "def greeting():\n",
    "    print(\"Hallo, apa kabar\")\n",
    "greeting()\n",
    "greeting()\n",
    "    \n",
    "    "
   ]
  },
  {
   "cell_type": "code",
   "execution_count": 19,
   "id": "ac56f15d-ea62-4e36-aa83-cd184749cc52",
   "metadata": {},
   "outputs": [
    {
     "name": "stdout",
     "output_type": "stream",
     "text": [
      "sekarang tanggal : 2025-05-27\n",
      "Sekarang weekday\n"
     ]
    }
   ],
   "source": [
    "import datetime\n",
    "def showDate():\n",
    "    today = datetime.date.today()\n",
    "    print(f\"sekarang tanggal : {today}\")\n",
    "\n",
    "def isWeekend():\n",
    "    today = datetime.date.today().weekday()\n",
    "    if today < 5:\n",
    "        print(\"Sekarang weekday\")\n",
    "    else:\n",
    "        print(\"Sekarang weekend\")\n",
    "    \n",
    "    \n",
    "showDate()\n",
    "isWeekend()"
   ]
  },
  {
   "cell_type": "code",
   "execution_count": 23,
   "id": "7ff9376f-b3f0-4d61-a99d-7336a1b338fd",
   "metadata": {},
   "outputs": [
    {
     "name": "stdout",
     "output_type": "stream",
     "text": [
      "AndiFahmiRobi\n",
      "AndiFahmiRobi,S. Kom\n"
     ]
    }
   ],
   "source": [
    "#fungsi dengan parameter, tidak ada return value\n",
    "def getFullName(first,middle,last):\n",
    "    print(f\"{first}{middle}{last}\")\n",
    "\n",
    "#fungsi dengan parameter, dan return value\n",
    "def getname(first,middle,last):\n",
    "    return f\"{first}{middle}{last}\"\n",
    "\n",
    "getFullName(\"Andi\", \"Fahmi\", \"Robi\")\n",
    "myname = getname(\"Andi\", \"Fahmi\", \"Robi\")\n",
    "title = \"S. Kom\"\n",
    "print(f\"{myname},{title}\")\n",
    "\n",
    "    \n",
    "getFullName = (\"Andi\", \"Fahmi\", \"Robi\")\n"
   ]
  },
  {
   "cell_type": "code",
   "execution_count": 35,
   "id": "0525c3aa-49a6-4225-90cf-3242b2d158fa",
   "metadata": {},
   "outputs": [
    {
     "name": "stdout",
     "output_type": "stream",
     "text": [
      "penjumlahan sedang diproses...\n",
      "penjumlahan sedang diproses...\n",
      "Hasil penjumlahan 5 dan 6 adalah 11\n",
      "Hasil perkalian 10 dan 3 adalah 30\n",
      "Hasil penjumlahan 11 dan 30 adalah 41\n"
     ]
    }
   ],
   "source": [
    "#fungsi aritmatika\n",
    "def add(num1,num2):\n",
    "    print(\"penjumlahan sedang diproses...\")\n",
    "    return num1 + num2\n",
    "    \n",
    "def multiply(num1, num2):\n",
    "    return num1 * num2\n",
    "\n",
    "r1 = add(5,6) #11\n",
    "r2 = multiply(10,3) #30\n",
    "r3 = add(r1, r2) #41\n",
    "\n",
    "print(f\"Hasil penjumlahan 5 dan 6 adalah {r1}\")\n",
    "print(f\"Hasil perkalian 10 dan 3 adalah {r2}\")\n",
    "print(f\"Hasil penjumlahan {r1} dan {r2} adalah {r3}\")\n",
    "\n",
    "\n",
    "    "
   ]
  },
  {
   "cell_type": "code",
   "execution_count": 39,
   "id": "9fd9e9c8-1ee8-4565-a760-b04a8ab83c49",
   "metadata": {},
   "outputs": [
    {
     "name": "stdout",
     "output_type": "stream",
     "text": [
      "Hasil penjumlahan adalah : 11\n",
      "Hasil perkalian adalah : 30\n"
     ]
    }
   ],
   "source": [
    "#fungsi dengan return lebih dari 1\n",
    "def angka(num1, num2):\n",
    "    add = num1 + num2\n",
    "    multiply = num1  * num2\n",
    "    return add, multiply\n",
    "    \n",
    "tambah, kali = angka(5,6)\n",
    "print(f\"Hasil penjumlahan adalah : {tambah}\")\n",
    "print(f\"Hasil perkalian adalah : {kali}\")\n",
    "\n",
    "\n",
    "    "
   ]
  },
  {
   "cell_type": "code",
   "execution_count": 76,
   "id": "a5ce1a4a-1c82-4a29-94de-3e7c9b125d97",
   "metadata": {},
   "outputs": [
    {
     "name": "stdout",
     "output_type": "stream",
     "text": [
      "registration is succesfull\n",
      "username : pandu\n",
      "password : 123456\n",
      "email : ruswandiwiguna@gmail.com\n",
      "status : AKTIF \n",
      "\n",
      "registration is succesfull\n",
      "username : luis\n",
      "password : 123456\n",
      "email : Luis@gmail.\n",
      "status : AKTIF \n",
      "\n"
     ]
    }
   ],
   "source": [
    "#fungsi dengan nilai default\n",
    "def userregistration(email,username, password,status = \"Belum aktif\"):\n",
    "    result = \"\"\n",
    "    if(len(username)>3):\n",
    "        if(len(password)>5):\n",
    "            result += f\"registration is succesfull\\n\"\n",
    "            result += f\"username : {username}\\n\"\n",
    "            result += f\"password : {password}\\n\"\n",
    "            result += f\"email : {email}\\n\"\n",
    "            result += f\"status : {status}\"\n",
    "            return result\n",
    "        else:\n",
    "            return \"registration failed (Username must be more than 5)\"\n",
    "    else:\n",
    "        return \"registration failed (Username must be more than 3)\"\n",
    "\n",
    "print(userregistration(\"ruswandiwiguna@gmail.com\", \"pandu\", \"123456\", \"AKTIF\"),\"\\n\")\n",
    "print(userregistration(\"Luis@gmail.\", \"luis\", \"123456\", \"AKTIF\"),\"\\n\") "
   ]
  },
  {
   "cell_type": "code",
   "execution_count": 120,
   "id": "1582c559-ed59-4fcb-ae54-b6daf85ce6d3",
   "metadata": {},
   "outputs": [
    {
     "name": "stdout",
     "output_type": "stream",
     "text": [
      "registration is succesfull\n",
      "username : pandu\n",
      "password : 123456\n",
      "email : ruswandiwiguna@gmail.com\n",
      "status : AKTIF \n",
      "\n"
     ]
    }
   ],
   "source": [
    "#fungsi dengan nilai default\n",
    "def cekpasword(password):\n",
    "    result = \"\"\n",
    "    if(len(password)<=5):\n",
    "         result = \"registration failed (password must be more than 5)\"\n",
    "    return result\n",
    "\n",
    " \n",
    "def cekusername(username):\n",
    "    result = \"\"\n",
    "    if(len(username)<=4):\n",
    "         result = \"registration failed (username must be more than 5)\"\n",
    "    return result\n",
    "  \n",
    "        \n",
    "def userregistration(email,username, password,status = \"Belum aktif\"):\n",
    "    user = cekusername(username)\n",
    "    pwd = cekpasword(password)\n",
    "    result = \"\"                 \n",
    "    if(len(user) > 0):\n",
    "        result +=user\n",
    "    \n",
    "    if(len(pwd) > 0):\n",
    "        result +=pwd\n",
    "\n",
    "        \n",
    "    if(len(result)==0):\n",
    "        result += f\"registration is succesfull\\n\"\n",
    "        result += f\"username : {username}\\n\"\n",
    "        result += f\"password : {password}\\n\"\n",
    "        result += f\"email : {email}\\n\"\n",
    "        result += f\"status : {status}\"\n",
    "    return result \n",
    "print(userregistration(\"ruswandiwiguna@gmail.com\", \"pandu\", \"123456\", \"AKTIF\"),\"\\n\")\n"
   ]
  },
  {
   "cell_type": "code",
   "execution_count": 136,
   "id": "fbe720dc-1bea-4032-a277-9f76c9c61dd6",
   "metadata": {},
   "outputs": [
    {
     "name": "stdin",
     "output_type": "stream",
     "text": [
      "Angka 1 :  2\n",
      "Angka 2 :  3\n"
     ]
    },
    {
     "name": "stdout",
     "output_type": "stream",
     "text": [
      "5\n",
      "6\n",
      "8\n"
     ]
    }
   ],
   "source": [
    "## import Aritmatika.math as math\n",
    "angka1 = int(input(\"Angka 1 : \"))\n",
    "angka2 = int(input(\"Angka 2 : \"))\n",
    "\n",
    "r1 = math.add(angka1, angka2)\n",
    "r2 = math.multiply(angka1, angka2)\n",
    "r3 = math.pow(angka1, angka2)\n",
    "print(r1)\n",
    "print(r2)\n",
    "print(r3)"
   ]
  },
  {
   "cell_type": "markdown",
   "id": "8b42d084-88f3-4b07-9f35-c33e43c87fa7",
   "metadata": {},
   "source": [
    "from konversi.convert import cmtometer as ctom\n",
    "\n",
    "\n",
    "angka = int(input(\"Masukkan panjang : \"))\n",
    "r1 = ctom(angka)\n",
    "print(f\"panjang dalam cm {angka}\")\n",
    "print(f\"panjang dalam meter {r1}\")\n",
    "\n"
   ]
  },
  {
   "cell_type": "code",
   "execution_count": 134,
   "id": "0b9d0685-73c4-4928-9d73-3de8c73aeea4",
   "metadata": {},
   "outputs": [
    {
     "name": "stdin",
     "output_type": "stream",
     "text": [
      "Masukkan panjang dalam (meter) :  5\n",
      "Masukkan panjang dalam (centimeter) :  500\n"
     ]
    },
    {
     "name": "stdout",
     "output_type": "stream",
     "text": [
      "panjang dalam cm :500\n",
      "panjang dalam meter :5.0\n"
     ]
    }
   ],
   "source": [
    "from konversi.convert import cmtometer, metertocm\n",
    "\n",
    "meter = int(input(\"Masukkan panjang dalam (meter) : \"))\n",
    "cm = int(input(\"Masukkan panjang dalam (centimeter) : \"))\n",
    "\n",
    "r1 = metertocm(meter)\n",
    "r2 = cmtometer(cm)\n",
    "print(f\"panjang dalam cm :{r1}\")\n",
    "print(f\"panjang dalam meter :{r2}\")\n",
    "\n",
    "\n"
   ]
  },
  {
   "cell_type": "code",
   "execution_count": null,
   "id": "eeb72fdf-40cc-4a26-b5dd-747d22f9475b",
   "metadata": {},
   "outputs": [],
   "source": []
  }
 ],
 "metadata": {
  "kernelspec": {
   "display_name": "Python [conda env:base] *",
   "language": "python",
   "name": "conda-base-py"
  },
  "language_info": {
   "codemirror_mode": {
    "name": "ipython",
    "version": 3
   },
   "file_extension": ".py",
   "mimetype": "text/x-python",
   "name": "python",
   "nbconvert_exporter": "python",
   "pygments_lexer": "ipython3",
   "version": "3.12.9"
  }
 },
 "nbformat": 4,
 "nbformat_minor": 5
}
