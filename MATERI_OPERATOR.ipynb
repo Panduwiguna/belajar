{
 "cells": [
  {
   "cell_type": "code",
   "execution_count": 2,
   "id": "5ec90d18-3c9c-493e-b434-5aa69faa1fc0",
   "metadata": {},
   "outputs": [
    {
     "name": "stdin",
     "output_type": "stream",
     "text": [
      "Isikan nilai X 50\n",
      "Isikan nilai Y 3\n"
     ]
    },
    {
     "name": "stdout",
     "output_type": "stream",
     "text": [
      "Hasil Penjumlahan 50 + 3 = 53\n",
      "Hasil Pengurangan 50 - 3 = 47\n",
      "Hasil Perkalian 50 * 3 = 150\n",
      "Hasil Pembagian 50 / 3 = 16.666666666666668\n",
      "Hasil Modulus 50 % 3 = 2\n",
      "Hasil Pangkat 50 ** 3 = 125000\n",
      "Hasil Pembagian Bulat 50 // 3 = 16\n"
     ]
    }
   ],
   "source": [
    "#OPERASI ARITMETIKA\n",
    "\n",
    "x = 10\n",
    "y = 20\n",
    "\n",
    "\n",
    "x = input(\"Isikan nilai X\")\n",
    "y = input(\"Isikan nilai Y\")\n",
    "x = int(x)\n",
    "y = int(y)\n",
    "\n",
    "hasilTambah = x + y\n",
    "hasilKurang = x - y\n",
    "hasilKali = x * y\n",
    "hasilBagi = x / y\n",
    "hasilModulus = x % y\n",
    "hasilPangkat = x ** y\n",
    "hasilDiv = x // y\n",
    "\n",
    "print(\"Hasil Penjumlahan\",x,\"+\",y,\"=\", hasilTambah)\n",
    "print(\"Hasil Pengurangan\",x,\"-\",y,\"=\", hasilKurang)\n",
    "print(\"Hasil Perkalian\",x,\"*\",y,\"=\", hasilKali)\n",
    "print(\"Hasil Pembagian\",x,\"/\",y,\"=\", hasilBagi)\n",
    "print(\"Hasil Modulus\",x,\"%\",y,\"=\", hasilModulus)\n",
    "print(\"Hasil Pangkat\",x,\"**\",y,\"=\", hasilPangkat)\n",
    "print(\"Hasil Pembagian Bulat\",x,\"//\",y,\"=\", hasilDiv)\n",
    "\n"
   ]
  },
  {
   "cell_type": "code",
   "execution_count": 4,
   "id": "0cde9ddb-5ceb-42f7-bcae-4d009dbbfcb1",
   "metadata": {},
   "outputs": [
    {
     "name": "stdin",
     "output_type": "stream",
     "text": [
      "Isikan nilai awal:  5\n"
     ]
    },
    {
     "name": "stdout",
     "output_type": "stream",
     "text": [
      "Nilai awal : 5\n",
      "setelah ditambah 3 = 8\n",
      "kemudian dikurang dengan 5 = 3\n",
      "selanjutnya dikali dengan 3 = 9\n",
      "selanjutnya dibagi dengan 2 = 4.5\n"
     ]
    }
   ],
   "source": [
    "#OPERASI PENUGASAN\n",
    "\n",
    "nilaiAwal = int(input(\"Isikan nilai awal: \"))\n",
    "\n",
    "print(\"Nilai awal :\", nilaiAwal)\n",
    "nilaiAwal+=3\n",
    "print(\"setelah ditambah 3 =\", nilaiAwal)\n",
    "nilaiAwal-=5\n",
    "print(\"kemudian dikurang dengan 5 =\", nilaiAwal)\n",
    "nilaiAwal*=3\n",
    "print(\"selanjutnya dikali dengan 3 =\", nilaiAwal)\n",
    "nilaiAwal/=2\n",
    "print(\"selanjutnya dibagi dengan 2 =\", nilaiAwal)\n"
   ]
  },
  {
   "cell_type": "code",
   "execution_count": 6,
   "id": "ec3d8809-613b-4872-b3cb-04a55a37592e",
   "metadata": {},
   "outputs": [
    {
     "name": "stdin",
     "output_type": "stream",
     "text": [
      "Isikan nilai fVal : 5\n",
      "Isikan nilai Vval : 5\n"
     ]
    },
    {
     "name": "stdout",
     "output_type": "stream",
     "text": [
      "5 = 5 True\n",
      "5 != 5 False\n",
      "5 > 5 False\n",
      "5 < 5 False\n",
      "5 >= 5 True\n",
      "5 <= 5 True\n"
     ]
    }
   ],
   "source": [
    "#OPERATOR PERBANDINGAN\n",
    "\n",
    "fVal = int(input(\"Isikan nilai fVal :\"))\n",
    "sVal = int(input(\"Isikan nilai Vval :\"))\n",
    "\n",
    "print(fVal, \"=\", sVal, fVal==sVal)\n",
    "print(fVal, \"!=\", sVal, fVal!=sVal)\n",
    "print(fVal, \">\", sVal, fVal>sVal)\n",
    "print(fVal, \"<\", sVal, fVal<sVal)\n",
    "print(fVal, \">=\", sVal, fVal>=sVal)\n",
    "print(fVal, \"<=\", sVal, fVal<=sVal)"
   ]
  },
  {
   "cell_type": "code",
   "execution_count": 8,
   "id": "7eccde2e-a59b-482a-82c1-b3f354832683",
   "metadata": {},
   "outputs": [
    {
     "name": "stdin",
     "output_type": "stream",
     "text": [
      "Isikan Bilangan 1 : 6\n",
      "Isikan Bilangan 2 : 1\n"
     ]
    },
    {
     "name": "stdout",
     "output_type": "stream",
     "text": [
      "Bilangan 1: 6\n",
      "Bilangan 2: 1\n",
      "Apakah Bilangan 1 mod 2 = 0 dan Bilangan 2 lebih besar dari 3?  False\n",
      "Apakah Bilangan 1 mod 2 = 0 dan Bilangan 2 lebih besar dari 3?  True\n",
      "Apakah Bilangan 1 mod 2 = 0 dan Bilangan 2 lebih besar dari 3?  False\n"
     ]
    }
   ],
   "source": [
    "#OPERATOR LOGIKA\n",
    "\n",
    "num_1=int(input(\"Isikan Bilangan 1 :\"))\n",
    "num_2=int(input(\"Isikan Bilangan 2 :\"))\n",
    "\n",
    "print(\"Bilangan 1:\", num_1)\n",
    "print(\"Bilangan 2:\", num_2)\n",
    "\n",
    "print(\"Apakah Bilangan 1 mod 2 = 0 dan Bilangan 2 lebih besar dari 3? \", num_1 % 2==0 and num_2 > 3)\n",
    "print(\"Apakah Bilangan 1 mod 2 = 0 dan Bilangan 2 lebih besar dari 3? \", num_1 % 2==0 or num_2 > 3)\n",
    "print(\"Apakah Bilangan 1 mod 2 = 0 dan Bilangan 2 lebih besar dari 3? \", not(num_1 % 2==0 or num_2 > 3))\n",
    "\n",
    "            "
   ]
  },
  {
   "cell_type": "code",
   "execution_count": 10,
   "id": "78254faa-ad7c-4374-8475-204f31b00693",
   "metadata": {},
   "outputs": [
    {
     "name": "stdout",
     "output_type": "stream",
     "text": [
      "True\n",
      "True\n",
      "False\n",
      "Memory Address dari Val1 140725859658456\n",
      "Memory Address dari Val1 140725859658456\n",
      "Memory Address dari Val1 140725859658456\n"
     ]
    },
    {
     "name": "stderr",
     "output_type": "stream",
     "text": [
      "<>:3: SyntaxWarning: \"is\" with 'str' literal. Did you mean \"==\"?\n",
      "<>:3: SyntaxWarning: \"is\" with 'str' literal. Did you mean \"==\"?\n",
      "C:\\Users\\USER\\AppData\\Local\\Temp\\ipykernel_3704\\1016609994.py:3: SyntaxWarning: \"is\" with 'str' literal. Did you mean \"==\"?\n",
      "  print(\"Andi\" is \"Andi\")\n"
     ]
    }
   ],
   "source": [
    "#OPERATOR IDENTITAS\n",
    "\n",
    "print(\"Andi\" is \"Andi\")\n",
    "Val1 = 10\n",
    "Val2 = 10\n",
    "Val3 = Val2\n",
    "print(Val1 is Val2)\n",
    "print(Val1 is not Val2)\n",
    "\n",
    "print(\"Memory Address dari Val1\",id(Val1))\n",
    "print(\"Memory Address dari Val1\",id(Val2))\n",
    "print(\"Memory Address dari Val1\",id(Val3))"
   ]
  },
  {
   "cell_type": "code",
   "execution_count": 13,
   "id": "a18a962e-5a76-418d-b5e7-1870e80f03e4",
   "metadata": {},
   "outputs": [
    {
     "name": "stdout",
     "output_type": "stream",
     "text": [
      "True\n",
      "False\n"
     ]
    }
   ],
   "source": [
    "#OPERATOR KEANGGOTAAN\n",
    "find = (\"Budi\")\n",
    "daftarMahasiswa = (\"Rudi\", \"Deni\", \"Nana\", \"Budi\", \"luis\", \"chandra\",\"pandu\")\n",
    "print (find in daftarMahasiswa)\n",
    "print (find not in daftarMahasiswa)"
   ]
  },
  {
   "cell_type": "code",
   "execution_count": 16,
   "id": "78212974-0587-462f-941d-05158b3f3b6e",
   "metadata": {},
   "outputs": [
    {
     "name": "stdin",
     "output_type": "stream",
     "text": [
      "Isikan nilai 1 : 64\n",
      "Isikan nilai 2: 3\n"
     ]
    },
    {
     "name": "stdout",
     "output_type": "stream",
     "text": [
      "0\n",
      "67\n",
      "67\n",
      "512\n",
      "8\n"
     ]
    }
   ],
   "source": [
    "#OPERATOR BITWISE\n",
    "\n",
    "Desimal1 = int(input(\"Isikan nilai 1 :\"))\n",
    "Desimal2 = int(input(\"Isikan nilai 2:\"))\n",
    "\n",
    "print(Desimal1 & Desimal2)\n",
    "print(Desimal1 | Desimal2)\n",
    "print(Desimal1 ^ Desimal2)\n",
    "print(Desimal1 << Desimal2)\n",
    "print(Desimal1 >> Desimal2)\n"
   ]
  },
  {
   "cell_type": "code",
   "execution_count": null,
   "id": "7d17dcca-9bce-452c-87bf-b8302d447b0a",
   "metadata": {},
   "outputs": [],
   "source": []
  }
 ],
 "metadata": {
  "kernelspec": {
   "display_name": "Python [conda env:base] *",
   "language": "python",
   "name": "conda-base-py"
  },
  "language_info": {
   "codemirror_mode": {
    "name": "ipython",
    "version": 3
   },
   "file_extension": ".py",
   "mimetype": "text/x-python",
   "name": "python",
   "nbconvert_exporter": "python",
   "pygments_lexer": "ipython3",
   "version": "3.12.9"
  }
 },
 "nbformat": 4,
 "nbformat_minor": 5
}
