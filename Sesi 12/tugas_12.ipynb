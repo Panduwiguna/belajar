{
 "cells": [
  {
   "cell_type": "code",
   "execution_count": null,
   "id": "49c8c3e3-be04-4f56-af6a-50bf0b5e7c38",
   "metadata": {},
   "outputs": [
    {
     "name": "stdout",
     "output_type": "stream",
     "text": [
      "\n",
      "    Pilih metode\n",
      "    1. Artitmatika\n",
      "    2. konversi\n",
      "    3. Ubah bilangan\n",
      "    4. Keluar\n",
      "    \n"
     ]
    },
    {
     "name": "stdin",
     "output_type": "stream",
     "text": [
      " 1\n",
      "Masukkan angka pertama : 1\n",
      "Masukkan angka pertama : 5\n"
     ]
    },
    {
     "name": "stdout",
     "output_type": "stream",
     "text": [
      "\n",
      "    Pilih Metode\n",
      "    1. Penjumlahan\n",
      "    2. Perpangkatan\n",
      "    3. perkalian\n",
      "    \n"
     ]
    },
    {
     "name": "stdin",
     "output_type": "stream",
     "text": [
      " 3\n"
     ]
    },
    {
     "name": "stdout",
     "output_type": "stream",
     "text": [
      "perpangkatan1 dan 5 adalah 1\n",
      "\n",
      "    Pilih metode\n",
      "    1. Artitmatika\n",
      "    2. konversi\n",
      "    3. Ubah bilangan\n",
      "    4. Keluar\n",
      "    \n"
     ]
    }
   ],
   "source": [
    "# import Aritmatika.math as math\n",
    "import konversi.convert as convert\n",
    "import binary.binary as binary\n",
    "\n",
    "def arit():\n",
    "    a  =int(input(\"Masukkan angka pertama :\"))\n",
    "    b  =int(input(\"Masukkan angka kedua :\"))\n",
    "\n",
    "    print(\"\"\"\n",
    "    Pilih Metode\n",
    "    1. Penjumlahan\n",
    "    2. Perpangkatan\n",
    "    3. perkalian\n",
    "    \"\"\")\n",
    "\n",
    "    choice = int(input())\n",
    "    if choice == 1:\n",
    "        r1 = math.penjumlahan(a,b)\n",
    "        print(f\"penjumlahan{a} dan {b} adalah {r1}\")\n",
    "    elif choice == 2:\n",
    "        r1 = math.perkalian(a,b)\n",
    "        print(f\"perkalian{a} dan {b} adalah {r1}\")\n",
    "    elif choice == 3:\n",
    "        r1 = math.perpangkatan(a,b)\n",
    "        print(f\"perpangkatan{a} dan {b} adalah {r1}\")\n",
    "\n",
    "def konv():\n",
    "    desimal = int(input(\"Masukkan angka desimal:\"))\n",
    "    print(\"\"\"\n",
    "    Pilih metode\n",
    "    1. konversi CM to M\n",
    "    2. konbversi M to CM\n",
    "    \"\"\")\n",
    "    choice = int(input())\n",
    "    if choice == 1:\n",
    "        r1 = convert.cmToMeter(desimal)\n",
    "        print(f\"CM To M adalah : {r1}\")\n",
    "    elif choice == 2:\n",
    "        r1 = convert.MeterToCM(desimal)\n",
    "        print(f\"M To CM adalah : {r1}\")\n",
    "\n",
    "def bina():\n",
    "    desimal = int(input(\"Masukkan angka :\"))\n",
    "    print(\"\"\"\n",
    "    Pilih metode\n",
    "    1. Desimal to Biner\n",
    "    2. Desimal to oktal\n",
    "    3. Desimal to hexadesimal\n",
    "    \"\"\")\n",
    "    choice = int(input())\n",
    "    if choice == 1:\n",
    "        r1 = binary.DesimalToBiner(desimal)\n",
    "        print(f\"Desimal ke binary adalah : {r1}\")\n",
    "    elif choice == 2:\n",
    "        r1 = binary.DesimalToOctal(desimal)\n",
    "        print(f\"Desimal ke binary adalah : {r1}\")\n",
    "    elif choice == 3:\n",
    "        r1 = binary.DesimalToHexa(desimal)\n",
    "        print(f\"Desimal ke binary adalah : {r1}\") \n",
    "\n",
    "\n",
    "while True:\n",
    "    print(\"\"\"\n",
    "    Pilih metode\n",
    "    1. Artitmatika\n",
    "    2. konversi\n",
    "    3. Ubah bilangan\n",
    "    4. Keluar\n",
    "    \"\"\")\n",
    "    choice = int(input())\n",
    "\n",
    "    if choice == 1:\n",
    "        arit()\n",
    "    elif choice == 2:\n",
    "        konv()\n",
    "    elif choice == 3:\n",
    "        bina()\n",
    "    elif choice == 4:\n",
    "        print(\"Terima kasih\")\n",
    "        break\n",
    "    else:\n",
    "        print(\"input tidak valid\")        "
   ]
  },
  {
   "cell_type": "code",
   "execution_count": null,
   "id": "a44b6ced-210d-4d78-b8f7-949e3d192ec8",
   "metadata": {},
   "outputs": [],
   "source": []
  },
  {
   "cell_type": "code",
   "execution_count": null,
   "id": "7b2d98e9-6ff6-4ef3-8de3-3ef24e610019",
   "metadata": {},
   "outputs": [],
   "source": []
  },
  {
   "cell_type": "code",
   "execution_count": null,
   "id": "d2db8d2a-3739-4e5c-94ae-9be9f8175c74",
   "metadata": {},
   "outputs": [],
   "source": []
  }
 ],
 "metadata": {
  "kernelspec": {
   "display_name": "Python [conda env:base] *",
   "language": "python",
   "name": "conda-base-py"
  },
  "language_info": {
   "codemirror_mode": {
    "name": "ipython",
    "version": 3
   },
   "file_extension": ".py",
   "mimetype": "text/x-python",
   "name": "python",
   "nbconvert_exporter": "python",
   "pygments_lexer": "ipython3",
   "version": "3.12.9"
  }
 },
 "nbformat": 4,
 "nbformat_minor": 5
}
