{
 "cells": [
  {
   "cell_type": "code",
   "execution_count": 2,
   "id": "6def070d-492b-445d-8128-5f1dddfc06ad",
   "metadata": {},
   "outputs": [],
   "source": [
    "#LOOPING CARA UNTUK BERULANG KALI MENGEKSEKUSI KODE\n",
    "#FOR LOOP KETIKA SUDAH TAU BATAS AWAL DAN BATAS AKHIR\n",
    "#MISAL: TOLON PANGGILKAN SAYA TAXI 10X\n",
    "\n",
    "#FOR WAY SELAMA KONDISI TRUE, BAKAL TERUS BERJALAN\n",
    "#JADI KITAGAK TAU BATAS AWAL DAN BATAS AKHIRNYA\n",
    "\n",
    "\n",
    "#ADA FUNGSI NAMANYA ENUMERATE() UNTUK MELAKUKAN LOOP TERHADAP SUATU OBJEK\n",
    "#JADI SEPERTI ADA NOMOR LISTNYA\n",
    "\n",
    "#WHILE LOOP YANG TERUS MENERUS MELAKUKAN LOO[ SAMPAI MEMENUHI SUATU KONDISI YANG MEMBUAT DIA HARUS BERHENTI\n",
    "\n",
    "#break = akan memberhentikan loopingnya\n",
    "\n",
    "\n",
    "\n"
   ]
  },
  {
   "cell_type": "code",
   "execution_count": 6,
   "id": "977962c3-4665-40a4-8087-c8d8c2fee958",
   "metadata": {},
   "outputs": [
    {
     "name": "stdout",
     "output_type": "stream",
     "text": [
      "0\n",
      "1\n",
      "2\n",
      "3\n",
      "4\n",
      "5\n",
      "6\n",
      "7\n",
      "8\n",
      "9\n"
     ]
    }
   ],
   "source": [
    "i = 0\n",
    "while i < 10:\n",
    "    print(i)\n",
    "    i +=1"
   ]
  },
  {
   "cell_type": "raw",
   "id": "c012c5c8-8047-4838-a302-96a33f8a5d26",
   "metadata": {},
   "source": [
    "<h4> for variabel in collection"
   ]
  },
  {
   "cell_type": "code",
   "execution_count": 13,
   "id": "610ca2b5-81ff-4e6b-a3be-bd9888142c78",
   "metadata": {},
   "outputs": [
    {
     "name": "stdout",
     "output_type": "stream",
     "text": [
      "Nama buah : apple\n",
      "Nama buah : banana\n",
      "Nama buah : watermelom\n",
      "Nama buah : pineaple\n"
     ]
    }
   ],
   "source": [
    "fruits = [\"apple\", \"banana\", \"watermelom\", \"pineaple\"]\n",
    "for fruit in fruits:\n",
    "    print(f\"Nama buah : {fruit}\")\n"
   ]
  },
  {
   "cell_type": "code",
   "execution_count": 33,
   "id": "fdc5616c-db1b-468d-87aa-9e3acce21cfd",
   "metadata": {},
   "outputs": [
    {
     "name": "stdout",
     "output_type": "stream",
     "text": [
      "nilai rata-rata : 71.42857142857143\n"
     ]
    }
   ],
   "source": [
    "#contoh penggunaan\n",
    "#kelas ti24f mempunyai nilai 80, 100, 90, 70, 70, 50, 40\n",
    "#carilah nilai rata-ratanya\n",
    "\n",
    "nilaipython =[80, 100, 90, 70, 70, 50, 40]\n",
    "total = 0\n",
    "\n",
    "for nilai in nilaipython:\n",
    "    total += nilai\n",
    "\n",
    "rata2 = total / len(nilaipython)\n",
    "print(f\"nilai rata-rata : {rata2}\")"
   ]
  },
  {
   "cell_type": "code",
   "execution_count": 39,
   "id": "b3c917ae-41b7-4ab6-b777-feb9aa350ba2",
   "metadata": {},
   "outputs": [
    {
     "name": "stdout",
     "output_type": "stream",
     "text": [
      "0 : jan\n",
      "1 : feb\n",
      "2 : mar\n",
      "3 : apr\n",
      "4 : may\n",
      "5 : june\n",
      "6 : jul\n",
      "7 : aug\n",
      "8 : sep\n"
     ]
    }
   ],
   "source": [
    "#ENUMERATE\n",
    "month = [\"jan\", \"feb\", \"mar\", \"apr\", \"may\", \"june\", \"jul\", \"aug\", \"sep\"]\n",
    "for i, m in enumerate(month):\n",
    "    print(f\"{i} : {m}\")"
   ]
  },
  {
   "cell_type": "code",
   "execution_count": 43,
   "id": "83c7849d-7555-443b-87f8-26ed20b71022",
   "metadata": {},
   "outputs": [
    {
     "name": "stdin",
     "output_type": "stream",
     "text": [
      "Isikan nama kampus:  Nusa putra\n"
     ]
    },
    {
     "name": "stdout",
     "output_type": "stream",
     "text": [
      "N adalah bukan huruf vokal | Total : 0\n",
      "u adalah huruf vokal | Total : 1\n",
      "s adalah bukan huruf vokal | Total : 1\n",
      "a adalah huruf vokal | Total : 2\n",
      "  adalah bukan huruf vokal | Total : 2\n",
      "p adalah bukan huruf vokal | Total : 2\n",
      "u adalah huruf vokal | Total : 3\n",
      "t adalah bukan huruf vokal | Total : 3\n",
      "r adalah bukan huruf vokal | Total : 3\n",
      "a adalah huruf vokal | Total : 4\n",
      "jumlah total huruf vokal : 4\n"
     ]
    }
   ],
   "source": [
    "kampus = input(\"Isikan nama kampus: \")\n",
    "listvokal = [\"a\", \"i\", \"u\", \"e\", \"o\"]\n",
    "total = 0\n",
    "isvokal =\"\"\n",
    "for karakter in kampus:\n",
    "    if karakter in listvokal:\n",
    "        total +=1\n",
    "        isvokal = \"huruf vokal\"\n",
    "    else:\n",
    "        isvokal = \"bukan huruf vokal\"\n",
    "    print(f\"{karakter} adalah {isvokal} | Total : {total}\") #berapa banyak jumlah huruf vokal 'a,i,u,e,o'\n",
    "print(f\"jumlah total huruf vokal : {total}\")"
   ]
  },
  {
   "cell_type": "code",
   "execution_count": 55,
   "id": "436e69ae-c577-4db6-bc9f-f34dc5035fc8",
   "metadata": {},
   "outputs": [
    {
     "name": "stdout",
     "output_type": "stream",
     "text": [
      "[1, 4, 9, 16, 25]\n"
     ]
    }
   ],
   "source": [
    "#looping for comprehension\n",
    "data = [1,2,3,4,5]\n",
    "pangkat = [x**2 for x in data]\n",
    "print(pangkat)"
   ]
  },
  {
   "cell_type": "code",
   "execution_count": 64,
   "id": "a972f782-6717-455c-8e21-cfba53ca13ae",
   "metadata": {},
   "outputs": [
    {
     "name": "stdout",
     "output_type": "stream",
     "text": [
      "Nilai i adaLah:0\n",
      "Nilai i adaLah:1\n",
      "Nilai i adaLah:2\n",
      "Nilai i adaLah:3\n",
      "Nilai i adaLah:4\n",
      "Nilai i adaLah:5\n",
      "Nilai i adaLah:6\n",
      "Nilai i adaLah:7\n",
      "Nilai i adaLah:8\n",
      "Nilai i adaLah:9\n"
     ]
    }
   ],
   "source": [
    "#RANGE\n",
    "for i in range(10):\n",
    "    print(f\"Nilai i adaLah:{i}\")"
   ]
  },
  {
   "cell_type": "code",
   "execution_count": 62,
   "id": "ab46c61f-bbf7-435a-8140-5bb0a0179ec0",
   "metadata": {},
   "outputs": [
    {
     "name": "stdout",
     "output_type": "stream",
     "text": [
      "nilai j : 5\n",
      "nilai j : 6\n",
      "nilai j : 7\n",
      "nilai j : 8\n",
      "nilai j : 9\n"
     ]
    }
   ],
   "source": [
    "for j in range(5,10):\n",
    "    print(f\"nilai j : {j}\")"
   ]
  },
  {
   "cell_type": "code",
   "execution_count": 79,
   "id": "d314e358-0a01-4d93-b64e-d332a4bb3dec",
   "metadata": {},
   "outputs": [
    {
     "name": "stdin",
     "output_type": "stream",
     "text": [
      "Isikan bilangan : 7\n"
     ]
    },
    {
     "name": "stdout",
     "output_type": "stream",
     "text": [
      "7 adalah bilangan prima\n"
     ]
    }
   ],
   "source": [
    "#cek bilangan prima atau bukan adalah yang bisa dibagi sama dirinya dan angka 1\n",
    "number = int(input(\"Isikan bilangan :\"))\n",
    "faktor = 0\n",
    "\n",
    "for i in range (1, number+1):\n",
    "    if number % i == 0:\n",
    "        faktor +=1\n",
    "\n",
    "if faktor==2:\n",
    "    print(f\"{number} adalah bilangan prima\")\n",
    "else:\n",
    "    print(f\"{number} adalah BUKAN bilangan prima\")"
   ]
  },
  {
   "cell_type": "code",
   "execution_count": 88,
   "id": "e15e6060-2fcf-47d2-a2f2-66c3cf69e525",
   "metadata": {},
   "outputs": [
    {
     "name": "stdin",
     "output_type": "stream",
     "text": [
      "Isikan bilangan : 7\n"
     ]
    },
    {
     "name": "stdout",
     "output_type": "stream",
     "text": [
      "7! = 20160\n"
     ]
    }
   ],
   "source": [
    "#FAKTORIAL\n",
    "#3! =3 x 2 x 1 = 6\n",
    "\n",
    "number = int(input(\"Isikan bilangan :\"))\n",
    "for i in range(1, number+1):\n",
    "    total *= i\n",
    "print(f\"{number}! = {total}\")"
   ]
  },
  {
   "cell_type": "code",
   "execution_count": 96,
   "id": "79d2d9ef-3ba2-43e7-8853-5699ee8b374d",
   "metadata": {},
   "outputs": [
    {
     "name": "stdin",
     "output_type": "stream",
     "text": [
      "Isikan bilangan 10\n"
     ]
    },
    {
     "name": "stdout",
     "output_type": "stream",
     "text": [
      "1  -2  3  -4  5  -6  7  -8  9  -10  "
     ]
    }
   ],
   "source": [
    "#1 -2 3 -4 5 -6 7 -8 9 -10\n",
    "\n",
    "number = int(input(\"Isikan bilangan\"))\n",
    "sign = 1\n",
    "for i in range(1, number+1):\n",
    "    result = sign * i\n",
    "    print(f\"{result} \", end=' ')\n",
    "    sign *= -1"
   ]
  },
  {
   "cell_type": "code",
   "execution_count": 102,
   "id": "a9eb8a62-d440-4262-a1bc-999a6268f1d1",
   "metadata": {},
   "outputs": [
    {
     "name": "stdout",
     "output_type": "stream",
     "text": [
      "Jumlah penonton laki-laki : 4\n",
      "Jumlah penonton perempuan: 3\n"
     ]
    }
   ],
   "source": [
    "kursibioskop = [\"L\", \"P\", \"P\", \"L\", \"L\", \"P\", \"L\"]\n",
    "#hitung jumlah penonton laki-laki\n",
    "#hitung jumlah penonton perempuan\n",
    "totallaki = 0\n",
    "for jenis in kursibioskop:\n",
    "    if jenis==\"L\":\n",
    "        totallaki+=1\n",
    "print(f\"Jumlah penonton laki-laki : {totallaki}\")\n",
    "print(f\"Jumlah penonton perempuan: {len(kursibioskop)-totallaki}\")"
   ]
  },
  {
   "cell_type": "code",
   "execution_count": 108,
   "id": "abdf0818-9fa0-49f9-82b4-8f1e355dacd4",
   "metadata": {},
   "outputs": [
    {
     "name": "stdout",
     "output_type": "stream",
     "text": [
      "jumlah couple adalah :4\n"
     ]
    }
   ],
   "source": [
    "#HITUNG JUMLAH ORANG YANG BERPASANGAN\n",
    "kursi= [\"L\", \"P\", \"P\", \"L\", \"L\", \"P\", \"L\"]\n",
    "couple = 0\n",
    "for i in range(len(kursi)-1):\n",
    "    if kursi[i] != kursi[i+1]:\n",
    "        couple+=1\n",
    "print(f\"jumlah couple adalah :{couple}\")"
   ]
  },
  {
   "cell_type": "code",
   "execution_count": 116,
   "id": "b9343f77-c112-45b5-96ac-df748a2fc0da",
   "metadata": {},
   "outputs": [
    {
     "name": "stdout",
     "output_type": "stream",
     "text": [
      "fname : Dedi\n",
      "lname : Robi\n"
     ]
    }
   ],
   "source": [
    "#DICTIONARY\n",
    "data = {\n",
    "    \"fname\" : \"Dedi\",\n",
    "    \"lname\" : \"Robi\"\n",
    "}\n",
    "for key, value in data.items():\n",
    "    print(f\"{key} : {value}\")  "
   ]
  },
  {
   "cell_type": "code",
   "execution_count": null,
   "id": "be5424f3-07c7-473f-bb6b-1168615860f8",
   "metadata": {},
   "outputs": [],
   "source": [
    "tahu = [10,10,10,10,10,10]\n",
    "#harga 1 tahu = 2000\n",
    "#jika ada orang beli 15\n"
   ]
  },
  {
   "cell_type": "code",
   "execution_count": null,
   "id": "0f011783-2bcb-4767-9a8f-82a9d619ce07",
   "metadata": {},
   "outputs": [],
   "source": []
  }
 ],
 "metadata": {
  "kernelspec": {
   "display_name": "Python [conda env:base] *",
   "language": "python",
   "name": "conda-base-py"
  },
  "language_info": {
   "codemirror_mode": {
    "name": "ipython",
    "version": 3
   },
   "file_extension": ".py",
   "mimetype": "text/x-python",
   "name": "python",
   "nbconvert_exporter": "python",
   "pygments_lexer": "ipython3",
   "version": "3.12.9"
  }
 },
 "nbformat": 4,
 "nbformat_minor": 5
}
