{
 "cells": [
  {
   "cell_type": "code",
   "execution_count": 34,
   "id": "0a9dc84e-09db-4683-a19f-64576e2fb885",
   "metadata": {},
   "outputs": [
    {
     "name": "stdout",
     "output_type": "stream",
     "text": [
      "Nama Lengkap: Pandu Wiguna Ruswandi\n"
     ]
    }
   ],
   "source": [
    "#PENGGABUNGAN STRING\n",
    "\n",
    "nama_depan = \"Pandu\"\n",
    "nama_tengah = \"Wiguna\"\n",
    "nama_belakang = \"Ruswandi\"\n",
    "nama_lengkap = nama_depan + \" \" + nama_tengah + \" \" + nama_belakang\n",
    "print(\"Nama Lengkap:\", nama_lengkap)\n"
   ]
  },
  {
   "cell_type": "code",
   "execution_count": 7,
   "id": "8d403a06-d933-41f5-b9b5-a7d12634961d",
   "metadata": {},
   "outputs": [
    {
     "name": "stdout",
     "output_type": "stream",
     "text": [
      "Panjang string: 18\n"
     ]
    }
   ],
   "source": [
    "#MENGHITUNG PANJANG STRING\n",
    "\n",
    "teks = \"Python Programming\"\n",
    "panjang = len(teks)\n",
    "print(\"Panjang string:\", panjang)\n"
   ]
  },
  {
   "cell_type": "code",
   "execution_count": 9,
   "id": "11f54215-f176-490f-bbf1-2bf9935bc958",
   "metadata": {},
   "outputs": [
    {
     "name": "stdout",
     "output_type": "stream",
     "text": [
      "NUSA PUTRA UNIVERSITY\n",
      "nusa putra university\n"
     ]
    }
   ],
   "source": [
    "#MENGUBAH HURUF BESAR DAN KECIL\n",
    "\n",
    "teks = \"Nusa Putra University\"\n",
    "print(teks.upper())  # Mengubah ke huruf besar\n",
    "print(teks.lower())  # Mengubah ke huruf kecil\n"
   ]
  },
  {
   "cell_type": "code",
   "execution_count": 11,
   "id": "8184508c-bf9d-4e9c-af0d-1b6134e92746",
   "metadata": {},
   "outputs": [
    {
     "name": "stdout",
     "output_type": "stream",
     "text": [
      "\"kampus\" ditemukan dalam teks.\n"
     ]
    }
   ],
   "source": [
    "#MEMERIKSA SEBUAH KATA DALAM SSTRING\n",
    "\n",
    "teks = \"Saya pergi ke kampus hari ini\"\n",
    "kata = \"kampus\"\n",
    "if kata in teks:\n",
    "    print(f'\"{kata}\" ditemukan dalam teks.')\n",
    "else:\n",
    "    print(f'\"{kata}\" tidak ditemukan dalam teks.')\n"
   ]
  },
  {
   "cell_type": "code",
   "execution_count": 28,
   "id": "849397cf-f780-4c2a-a74d-bb90af827490",
   "metadata": {},
   "outputs": [
    {
     "name": "stdout",
     "output_type": "stream",
     "text": [
      "Coding\n",
      "Python\n",
      "Programming\n"
     ]
    }
   ],
   "source": [
    "#MEMOTONG STRING (SLICING)\n",
    "\n",
    "teks = \"Coding Python Programming\"\n",
    "print(teks[0:6])   #Output Coding\n",
    "print(teks[7:13])   # Output: Python\n",
    "print(teks[-11:])  # Output: Programming\n"
   ]
  },
  {
   "cell_type": "code",
   "execution_count": 30,
   "id": "97ede32a-58c0-4ba2-a0e7-8f3d3bade6cd",
   "metadata": {},
   "outputs": [
    {
     "name": "stdout",
     "output_type": "stream",
     "text": [
      "Saya suka jeruk\n"
     ]
    }
   ],
   "source": [
    "#MENGGANTI KATA DALAM STRING\n",
    "\n",
    "teks = \"Saya suka apel\"\n",
    "teks_baru = teks.replace(\"apel\", \"jeruk\")\n",
    "print(teks_baru)\n"
   ]
  },
  {
   "cell_type": "code",
   "execution_count": 32,
   "id": "91453949-ba76-47fa-a113-d0da20ab15f0",
   "metadata": {},
   "outputs": [
    {
     "name": "stdout",
     "output_type": "stream",
     "text": [
      "['Python', 'adalah', 'bahasa', 'pemrograman']\n"
     ]
    }
   ],
   "source": [
    "#MEMISAHKAN STRING MENJADI LIST\n",
    "\n",
    "teks = \"Python adalah bahasa pemrograman\"\n",
    "kata_kata = teks.split()  # Memisahkan berdasarkan spasi\n",
    "print(kata_kata)\n"
   ]
  },
  {
   "cell_type": "code",
   "execution_count": null,
   "id": "7fd96a79-2946-4ba9-ab14-df15e04ff678",
   "metadata": {},
   "outputs": [],
   "source": []
  }
 ],
 "metadata": {
  "kernelspec": {
   "display_name": "Python [conda env:base] *",
   "language": "python",
   "name": "conda-base-py"
  },
  "language_info": {
   "codemirror_mode": {
    "name": "ipython",
    "version": 3
   },
   "file_extension": ".py",
   "mimetype": "text/x-python",
   "name": "python",
   "nbconvert_exporter": "python",
   "pygments_lexer": "ipython3",
   "version": "3.12.9"
  }
 },
 "nbformat": 4,
 "nbformat_minor": 5
}
