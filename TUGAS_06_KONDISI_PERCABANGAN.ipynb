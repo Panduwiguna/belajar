{
 "cells": [
  {
   "cell_type": "code",
   "execution_count": 2,
   "id": "b4e74fe7-847f-4524-8040-4471c9a7a0af",
   "metadata": {},
   "outputs": [
    {
     "name": "stdin",
     "output_type": "stream",
     "text": [
      "Masukkan nilai coding(0-100): 90\n",
      "Masukkan nilai interview :  A\n"
     ]
    },
    {
     "name": "stdout",
     "output_type": "stream",
     "text": [
      "Selamat kamu berhail menjadi calon programmer\n"
     ]
    }
   ],
   "source": [
    "#TUGAS KONDISI PERCABANGAN\n",
    "nilaicoding = int(input(\"Masukkan nilai coding(0-100):\"))\n",
    "nilaiinterview = (input(\"Masukkan nilai interview : \"))\n",
    "hasilcoding = \"\"\n",
    "hasilinterview = \"\"\n",
    "\n",
    "\n",
    "if nilaicoding > 80:\n",
    "    hasilcoding = \"LOLOS\"\n",
    "elif nilaicoding > 60:\n",
    "    hasilcoding = \"DIPERTIMBANGKAN\"\n",
    "else:\n",
    "     hasilcoding = \"GAGAL\"\n",
    "\n",
    "if nilaiinterview == \"A\" or nilaiinterview == \"B\":\n",
    "     hasilinterview = \"LOLOS\"\n",
    "else:\n",
    "     hasilinterview = \"GAGAL\"\n",
    "\n",
    "if (hasilcoding == \"LOLOS\" or hasilcoding == \"DIPERTIMBANGKAN\") and hasilinterview == \"LOLOS\":\n",
    "    print(\"Selamat kamu berhail menjadi calon programmer\")\n",
    "else:\n",
    "    print(\"Maaf, kamu belum berhail menjadi calon programmer\")\n"
   ]
  },
  {
   "cell_type": "code",
   "execution_count": 4,
   "id": "aad65cc2-d8a6-43d2-b6e0-3a1b37bcf3ac",
   "metadata": {},
   "outputs": [
    {
     "name": "stdin",
     "output_type": "stream",
     "text": [
      "masukkan nomor punggung :  90\n"
     ]
    },
    {
     "name": "stdout",
     "output_type": "stream",
     "text": [
      "kamu mempunyai pilihan posisi : target attackerberhak dipilih menjadi kapten \n"
     ]
    }
   ],
   "source": [
    "nomorpunggung = int(input(\"masukkan nomor punggung : \"))\n",
    "posisi = \"\"\n",
    "if nomorpunggung % 2 == 0:\n",
    "    posisi += \"target attacker\"\n",
    "    if nomorpunggung >= 50 and nomorpunggung <= 100:\n",
    "        posisi += \"berhak dipilih menjadi kapten\"\n",
    "else:\n",
    "    posisi += \"defender,\"\n",
    "    if nomorpunggung > 90:\n",
    "        posisi += \"playmaker\"\n",
    "    if nomorpunggung % 3 == 0 and nomorpunggung % 5 == 0:\n",
    "        posisi += \"keeper\"\n",
    "print(f\"kamu mempunyai pilihan posisi : {posisi} \")"
   ]
  },
  {
   "cell_type": "code",
   "execution_count": null,
   "id": "5cb748ee-c3f8-495a-a33f-431267da8764",
   "metadata": {},
   "outputs": [],
   "source": []
  },
  {
   "cell_type": "code",
   "execution_count": null,
   "id": "dd3e616d-3a63-42fd-8517-c681eec20158",
   "metadata": {},
   "outputs": [],
   "source": []
  }
 ],
 "metadata": {
  "kernelspec": {
   "display_name": "Python [conda env:base] *",
   "language": "python",
   "name": "conda-base-py"
  },
  "language_info": {
   "codemirror_mode": {
    "name": "ipython",
    "version": 3
   },
   "file_extension": ".py",
   "mimetype": "text/x-python",
   "name": "python",
   "nbconvert_exporter": "python",
   "pygments_lexer": "ipython3",
   "version": "3.12.9"
  }
 },
 "nbformat": 4,
 "nbformat_minor": 5
}
