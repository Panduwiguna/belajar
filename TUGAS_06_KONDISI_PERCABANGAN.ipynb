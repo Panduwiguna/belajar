{
 "cells": [
  {
   "cell_type": "code",
   "execution_count": null,
   "id": "b4e74fe7-847f-4524-8040-4471c9a7a0af",
   "metadata": {},
   "outputs": [],
   "source": [
    "#TUGAS KONDISI PERCABANGAN\n",
    "nilaicoding = int(input(\"Masukkan nilai coding(0-100):\"))\n",
    "nilaiinterview = (input(\"Masukkan nilai interview : \"))\n",
    "hasilcoding = \"\"\n",
    "hasilinterview = \"\"\n",
    "\n",
    "\n",
    "if nilaicoding > 80:\n",
    "    hasilcoding = \"LOLOS\"\n",
    "elif nilaicoding > 60:\n",
    "    hasilcoding = \"DIPERTIMBANGKAN\"\n",
    "else:\n",
    "     hasilcoding = \"GAGAL\"\n",
    "\n",
    "if nilaiinterview == \"A\" or nilaiinterview == \"B\":\n",
    "     hasilinterview = \"LOLOS\"\n",
    "else:\n",
    "     hasilinterview = \"GAGAL\"\n",
    "\n",
    "if (hasilcoding == \"LOLOS\" or hasilcoding == \"DIPERTIMBANGKAN\") and hasilinterview == \"LOLOS\":\n",
    "    print(\"Selamat kamu berhail menjadi calon programmer\")\n",
    "else:\n",
    "    print(\"Maaf, kamu belum berhail menjadi calon programmer\")\n"
   ]
  }
 ],
 "metadata": {
  "kernelspec": {
   "display_name": "Python [conda env:base] *",
   "language": "python",
   "name": "conda-base-py"
  },
  "language_info": {
   "codemirror_mode": {
    "name": "ipython",
    "version": 3
   },
   "file_extension": ".py",
   "mimetype": "text/x-python",
   "name": "python",
   "nbconvert_exporter": "python",
   "pygments_lexer": "ipython3",
   "version": "3.12.9"
  }
 },
 "nbformat": 4,
 "nbformat_minor": 5
}
