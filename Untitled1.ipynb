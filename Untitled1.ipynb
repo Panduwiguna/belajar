{
 "cells": [
  {
   "cell_type": "code",
   "execution_count": null,
   "id": "52c4f7a2-ecee-40ad-aea9-46c2d8300fb6",
   "metadata": {},
   "outputs": [],
   "source": []
  }
 ],
 "metadata": {
  "kernelspec": {
   "display_name": "",
   "name": ""
  },
  "language_info": {
   "name": ""
  }
 },
 "nbformat": 4,
 "nbformat_minor": 5
}
