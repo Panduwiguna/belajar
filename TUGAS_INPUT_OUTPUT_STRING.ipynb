{
 "cells": [
  {
   "cell_type": "code",
   "execution_count": 14,
   "id": "1e9f459a-a8d9-4da9-ac32-b01fbd621490",
   "metadata": {},
   "outputs": [
    {
     "name": "stdin",
     "output_type": "stream",
     "text": [
      "Masukkan nama anda Pandu wiguna ruswandi\n",
      "Masukkan kelas TI24F\n",
      "Masukkan prodi Teknik informatika\n",
      "Masukkan NIM anda 20240040258\n",
      "Masukkan alamat anda Jl. Selabintana\n"
     ]
    },
    {
     "name": "stdout",
     "output_type": "stream",
     "text": [
      "\n",
      " BIODATA\n",
      "Nama: Pandu wiguna ruswandi\n",
      "Kelas: TI24F\n",
      "Prodi: Teknik informatika\n",
      "NIM: 20240040258\n",
      "Alamat: Jl. Selabintana\n"
     ]
    }
   ],
   "source": [
    "## 1. Buatlah biodata sederhana dengan menggunakan fungsi input(), dan\n",
    "# output variabel dengan fungsi format().\n",
    "# 2. Jika terdapat kalimat UNIVERSITAS NUSA PUTRA SUKABUMI ,buatlah\n",
    "#kode program untuk menampilkan output:\n",
    "# a. putra nusa\n",
    "# b. NIVERSITAS NSA PTRA SKABMI\n",
    "# c. SUKABUMI PUTRA NUSA UNIVERSITAS\n",
    "# d. UNPS\n",
    "# e. TAS SAPU BUMI\n",
    "\n",
    "Nama = input(\"Masukkan nama anda\")\n",
    "Kelas = input(\"Masukkan kelas\")\n",
    "Prodi = input(\"Masukkan prodi\")\n",
    "NIM   = input(\"Masukkan NIM anda\")\n",
    "Alamat = input(\"Masukkan alamat anda\")\n",
    "\n",
    "\n",
    "print(\"\\n BIODATA\")\n",
    "print(\"Nama: {}\" .format(Nama))\n",
    "print(\"Kelas: {}\" .format(Kelas))\n",
    "print(\"Prodi: {}\".format(Prodi))\n",
    "print(\"NIM: {}\".format(NIM))\n",
    "print(\"Alamat: {}\".format(Alamat))\n",
    "\n",
    "\n",
    "\n",
    "\n"
   ]
  },
  {
   "cell_type": "code",
   "execution_count": 55,
   "id": "3671bcde-d350-449c-bbbb-e40ce6235ea2",
   "metadata": {},
   "outputs": [
    {
     "name": "stdout",
     "output_type": "stream",
     "text": [
      "a. putra nusa\n",
      "b. NIVERSITAS  NSA PTRA SKABMI\n",
      "c. SUKABUMI PUTRA NUSA UNIVERSITAS\n",
      "d. ['UNIVERSITAS'] ['NUSA', 'PUTRA', 'SUKABUMI'] ['PUTRA', 'SUKABUMI'] ['SUKABUMI']\n"
     ]
    }
   ],
   "source": [
    "#putra nusa\n",
    "\n",
    "kalimat = \" UNIVERSITAS NUSA PUTRA SUKABUMI\"\n",
    "kata_putra = kalimat.split()[2].lower()\n",
    "kata_nusa = kalimat.split()[1].lower()\n",
    "print(\"a. {} {}\".format(kata_putra, kata_nusa))\n",
    "\n",
    "# b. NIVERSITAS NSA PTRA SKABMI\n",
    "NIVERSITAS = (\"b. {}\".format(kalimat[2:13]))\n",
    "kata = \"NUSA\"\n",
    "NSA = (kata[:1] + kata[2:])\n",
    "kata_2 = \"PUTRA\"\n",
    "PTRA = (kata_2[:1] + kata_2[2:])\n",
    "kata_3 = \"SUKABUMI\"\n",
    "SKABMI = (kata_3[:1] + kata_3[2:5] + kata_3[6:8])\n",
    "\n",
    "print(NIVERSITAS, NSA, PTRA, SKABMI)\n",
    "\n",
    "# c. SUKABUMI PUTRA NUSA UNIVERSITAS\n",
    "kata_SUKABUMI = kalimat.split()[3]\n",
    "kata_PUTRA = kalimat.split()[2]\n",
    "kata_NUSA = kalimat.split()[1]\n",
    "kata_UNIVERSITAS = kalimat.split()[0]\n",
    "print(\"c. {} {} {} {}\".format(kata_SUKABUMI, kata_PUTRA, kata_NUSA, kata_UNIVERSITAS))\n",
    "\n",
    "# d. UNPS\n",
    "kata_U = kalimat.split()[0:1]\n",
    "kata_N = kalimat.split()[1:12]\n",
    "kata_P = kalimat.split()[2:22]\n",
    "kata_S = kalimat.split()[3:28]\n",
    "print(\"d. {} {} {} {}\".format(kata_U, kata_N, kata_P, kata_S))\n",
    "\n",
    "\n",
    "\n",
    "\n",
    "\n",
    "\n"
   ]
  },
  {
   "cell_type": "code",
   "execution_count": null,
   "id": "ce5eca61-fb13-42ca-8839-60733d5ae6d0",
   "metadata": {},
   "outputs": [],
   "source": []
  }
 ],
 "metadata": {
  "kernelspec": {
   "display_name": "Python [conda env:base] *",
   "language": "python",
   "name": "conda-base-py"
  },
  "language_info": {
   "codemirror_mode": {
    "name": "ipython",
    "version": 3
   },
   "file_extension": ".py",
   "mimetype": "text/x-python",
   "name": "python",
   "nbconvert_exporter": "python",
   "pygments_lexer": "ipython3",
   "version": "3.12.9"
  }
 },
 "nbformat": 4,
 "nbformat_minor": 5
}
