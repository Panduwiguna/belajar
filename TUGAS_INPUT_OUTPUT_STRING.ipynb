{
 "cells": [
  {
   "cell_type": "code",
   "execution_count": 60,
   "id": "1e9f459a-a8d9-4da9-ac32-b01fbd621490",
   "metadata": {},
   "outputs": [
    {
     "name": "stdin",
     "output_type": "stream",
     "text": [
      "Masukkan nama anda pandu wiguna ruswandi\n",
      "Masukkan kelas TI24F\n",
      "Masukkan prodi Teknik Informatika\n",
      "Masukkan NIM anda 20240040258\n",
      "Masukkan alamat anda Jl. Selabintana\n"
     ]
    },
    {
     "name": "stdout",
     "output_type": "stream",
     "text": [
      "\n",
      " BIODATA\n",
      "Nama  : pandu wiguna ruswandi\n",
      "Kelas : TI24F\n",
      "Prodi : Teknik Informatika\n",
      "NIM   : 20240040258\n",
      "Alamat: Jl. Selabintana\n"
     ]
    }
   ],
   "source": [
    "## 1. Buatlah biodata sederhana dengan menggunakan fungsi input(), dan\n",
    "# output variabel dengan fungsi format().\n",
    "# 2. Jika terdapat kalimat UNIVERSITAS NUSA PUTRA SUKABUMI ,buatlah\n",
    "#kode program untuk menampilkan output:\n",
    "# a. putra nusa\n",
    "# b. NIVERSITAS NSA PTRA SKABMI\n",
    "# c. SUKABUMI PUTRA NUSA UNIVERSITAS\n",
    "# d. UNPS\n",
    "# e. TAS SAPU BUMI\n",
    "\n",
    "Nama = input(\"Masukkan nama anda\")\n",
    "Kelas = input(\"Masukkan kelas\")\n",
    "Prodi = input(\"Masukkan prodi\")\n",
    "NIM   = input(\"Masukkan NIM anda\")\n",
    "Alamat = input(\"Masukkan alamat anda\")\n",
    "\n",
    "\n",
    "print(\"\\n BIODATA\")\n",
    "print(\"Nama  : {}\" .format(Nama))\n",
    "print(\"Kelas : {}\" .format(Kelas))\n",
    "print(\"Prodi : {}\".format(Prodi))\n",
    "print(\"NIM   : {}\".format(NIM))\n",
    "print(\"Alamat: {}\".format(Alamat))\n",
    "\n",
    "\n",
    "\n",
    "\n"
   ]
  },
  {
   "cell_type": "code",
   "execution_count": 58,
   "id": "3671bcde-d350-449c-bbbb-e40ce6235ea2",
   "metadata": {},
   "outputs": [
    {
     "name": "stdout",
     "output_type": "stream",
     "text": [
      "a. putra nusa\n",
      "b. NIVERSITAS NSA PTRA SKABMI\n",
      "c. SUKABUMI PUTRA NUSA UNIVERSITAS\n",
      "d. UNPS\n",
      "e. TAS SAPU BUMI\n"
     ]
    }
   ],
   "source": [
    "#putra nusa\n",
    "\n",
    "kalimat = \"UNIVERSITAS NUSA PUTRA SUKABUMI\"\n",
    "kata_putra = kalimat.split()[2].lower()\n",
    "kata_nusa = kalimat.split()[1].lower()\n",
    "print(\"a. {} {}\".format(kata_putra, kata_nusa))\n",
    "\n",
    "# b. NIVERSITAS NSA PTRA SKABMI\n",
    "replaceU = kalimat.replace(\"U\", \"\")\n",
    "\n",
    "print(\"b.\", replaceU)\n",
    "\n",
    "# c. SUKABUMI PUTRA NUSA UNIVERSITAS\n",
    "kata_SUKABUMI = kalimat.split()[3]\n",
    "kata_PUTRA = kalimat.split()[2]\n",
    "kata_NUSA = kalimat.split()[1]\n",
    "kata_UNIVERSITAS = kalimat.split()[0]\n",
    "print(\"c. {} {} {} {}\".format(kata_SUKABUMI, kata_PUTRA, kata_NUSA, kata_UNIVERSITAS))\n",
    "\n",
    "# d. UNPS\n",
    "firstletter = kalimat.split(\" \")\n",
    "firstletter = firstletter[0][0], firstletter[1][0], firstletter[2][0], firstletter[3][0]\n",
    "firstletter = \"\".join(firstletter)\n",
    "print(\"d.\", firstletter)\n",
    "\n",
    "#e. TAS SAPU BUMI\n",
    "splice = kalimat[8:11], kalimat[14:19], kalimat[27:31]\n",
    "splice = splice[0], splice[1].replace(\" \" , \"\"), splice[2]\n",
    "splice = \" \".join(splice)\n",
    "print(\"e.\", splice)"
   ]
  },
  {
   "cell_type": "code",
   "execution_count": 76,
   "id": "ce5eca61-fb13-42ca-8839-60733d5ae6d0",
   "metadata": {},
   "outputs": [
    {
     "name": "stdin",
     "output_type": "stream",
     "text": [
      "masukkan nilai 8\n"
     ]
    },
    {
     "name": "stdout",
     "output_type": "stream",
     "text": [
      "maaf, anda tidak lulus, nilai anda:  8\n"
     ]
    }
   ],
   "source": [
    "\n",
    "            "
   ]
  },
  {
   "cell_type": "code",
   "execution_count": null,
   "id": "ee63f0fd-8601-4db9-ab34-155d7e34e3ad",
   "metadata": {},
   "outputs": [],
   "source": []
  }
 ],
 "metadata": {
  "kernelspec": {
   "display_name": "Python [conda env:base] *",
   "language": "python",
   "name": "conda-base-py"
  },
  "language_info": {
   "codemirror_mode": {
    "name": "ipython",
    "version": 3
   },
   "file_extension": ".py",
   "mimetype": "text/x-python",
   "name": "python",
   "nbconvert_exporter": "python",
   "pygments_lexer": "ipython3",
   "version": "3.12.9"
  }
 },
 "nbformat": 4,
 "nbformat_minor": 5
}
