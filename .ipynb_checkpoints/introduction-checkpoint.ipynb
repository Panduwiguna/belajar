{
 "cells": [
  {
   "cell_type": "markdown",
   "id": "e37a5b10-8b23-490e-b069-3e3ff7e3f8eb",
   "metadata": {},
   "source": [
    "<center><img src=\"https://th.bing.com/th/id/OIP.KnOS3vOcNhLla8LSZw4TugHaHa?w=188&h=188&c=7&r=0&o=5&pid=1.7\" width=\"200\"></center>\n",
    "<br> jenis cell di <b>Jupyter Notebooks</b> ada 2\n",
    "<ol>\n",
    "    <li>Mark Down (M)</li>\n",
    "    <Li>Code (Y)</Li>\n",
    "<ol>\n",
    "<hr>\n",
    "\n"
   ]
  },
  {
   "cell_type": "markdown",
   "id": "547bd23c-1a4f-4284-8e1c-dde79c05e6b8",
   "metadata": {},
   "source": [
    "cara menambah Cell ada 2:\n",
    "<ul>\n",
    "    <Li> Above (A) </Li>\n",
    "     <Li> Below (B) </Li>\n",
    "</ul>\n",
    "\n",
    "<table>\n",
    "    <tr>\n",
    "        <th>PERINTAH</th>\n",
    "        <th>KETERANGAN</th>\n",
    "    </tr>\n",
    "    <tr>\n",
    "        <td>ctrl + enter</td>\n",
    "        <td>Running dan fokos di cell</td>\n",
    "    </tr>\n",
    "    <tr>\n",
    "        <td>Shift + enter</td>\n",
    "        <td>Running dan fokus di cell berikutnya</td>\n",
    "    </tr>\n",
    "</table>"
   ]
  },
  {
   "cell_type": "code",
   "execution_count": 34,
   "id": "5a9e2ace-8325-4b68-83b4-952166d614cd",
   "metadata": {},
   "outputs": [
    {
     "name": "stdout",
     "output_type": "stream",
     "text": [
      "PYTHON IS VERY EASY\n",
      "5\n",
      "sekarang hari jumat\n",
      "Deklarasikan variable \"A\"\n",
      "15\n",
      "10\n"
     ]
    },
    {
     "data": {
      "text/plain": [
       "105"
      ]
     },
     "execution_count": 34,
     "metadata": {},
     "output_type": "execute_result"
    }
   ],
   "source": [
    "print(\"PYTHON IS VERY EASY\")\n",
    "data = 5\n",
    "data2 = \"10\"\n",
    "print (data)\n",
    "print (\"sekarang hari jumat\")\n",
    "print('Deklarasikan variable \"A\"')\n",
    "print(data + int(data2))\n",
    "print(data2)\n",
    "data2\n",
    "data + 100\n",
    "\n"
   ]
  },
  {
   "cell_type": "code",
   "execution_count": null,
   "id": "7e005558-9a86-44dd-a632-7d24a2a379df",
   "metadata": {},
   "outputs": [],
   "source": []
  }
 ],
 "metadata": {
  "kernelspec": {
   "display_name": "Python [conda env:base] *",
   "language": "python",
   "name": "conda-base-py"
  },
  "language_info": {
   "codemirror_mode": {
    "name": "ipython",
    "version": 3
   },
   "file_extension": ".py",
   "mimetype": "text/x-python",
   "name": "python",
   "nbconvert_exporter": "python",
   "pygments_lexer": "ipython3",
   "version": "3.12.9"
  }
 },
 "nbformat": 4,
 "nbformat_minor": 5
}
