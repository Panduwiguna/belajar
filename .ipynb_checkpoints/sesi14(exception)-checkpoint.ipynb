{
 "cells": [
  {
   "cell_type": "code",
   "execution_count": 8,
   "id": "45de9858-332c-4301-a122-ac20f33a5626",
   "metadata": {},
   "outputs": [
    {
     "ename": "SyntaxError",
     "evalue": "unterminated string literal (detected at line 4) (259743539.py, line 4)",
     "output_type": "error",
     "traceback": [
      "\u001b[1;36m  Cell \u001b[1;32mIn[8], line 4\u001b[1;36m\u001b[0m\n\u001b[1;33m    nim = int(input(\"masukkan nim(11 digit) :)\u001b[0m\n\u001b[1;37m                    ^\u001b[0m\n\u001b[1;31mSyntaxError\u001b[0m\u001b[1;31m:\u001b[0m unterminated string literal (detected at line 4)\n"
     ]
    }
   ],
   "source": [
    "def tambah_mahasiswa(daftar_mahasiswa):\n",
    "    print(\"Tambah Data Mahasiswa\")\n",
    "    while True:\n",
    "        nim = int(input(\"masukkan nim(11 digit) :)\n",
    "        if len nim == 11 and nim.isdigit():\n",
    "            break\n",
    "        else:\n",
    "            print(\"nim harus 11 digit, silakkan dicoba lagi ya :) \") \n",
    "\n",
    "    while True:\n",
    "        nama = input(\"masukkan nama(minimal 6 digit)\")\n",
    "        if len nama >= 6:\n",
    "            break\n",
    "        else:\n",
    "            print(\"nama minimal 6 digit, silakkan coba lagi\")\n",
    "\n",
    "    while True:\n",
    "        alamat = input(\"masukkan alamat(minimal 10 digit)\")\n",
    "        if len alamat >= 10:\n",
    "            break\n",
    "        else:\n",
    "            print(\"masukkan alamat minimal 10 digit, silakkan coba lagi\")\n",
    "\n",
    "     while True:\n",
    "        kelas = input(\"Masukkan Kelas (TI23/TI24): \").upper()\n",
    "        if kelas in [\"TI23\", \"TI24\"]:\n",
    "            break\n",
    "        else:\n",
    "            print(\"Kelas hanya boleh 'TI23' atau 'TI24'. Silakan coba lagi.\")\n",
    "\n",
    "    mahasiswa = {\n",
    "        \"NIM\" : nim,\n",
    "        \"Nama\" : nama,\n",
    "        \"Alamat\" : alamat,\n",
    "        \"Kelas\" : kelas\n",
    "    }\n",
    "    daftarmahasiwa.append(mahasiwa)\n",
    "    print(\"Data mahasiswa berhasil ditambahkan\")\n",
    "             \n",
    "def tampilkan_mahasiswa(daftar_mahasiswa)\n",
    "    print(\"Data Mahasiswa\")\n",
    "    if not daftar_mahasiswa:\n",
    "             \n",
    "             \n",
    "                        \n",
    "\n",
    "                        \n",
    "                        \n",
    "        \n",
    "                        \n",
    "    \n"
   ]
  },
  {
   "cell_type": "code",
   "execution_count": null,
   "id": "7146034f-347e-4a85-9ac2-4726df7ff584",
   "metadata": {},
   "outputs": [],
   "source": []
  }
 ],
 "metadata": {
  "kernelspec": {
   "display_name": "Python [conda env:base] *",
   "language": "python",
   "name": "conda-base-py"
  },
  "language_info": {
   "codemirror_mode": {
    "name": "ipython",
    "version": 3
   },
   "file_extension": ".py",
   "mimetype": "text/x-python",
   "name": "python",
   "nbconvert_exporter": "python",
   "pygments_lexer": "ipython3",
   "version": "3.12.9"
  }
 },
 "nbformat": 4,
 "nbformat_minor": 5
}
