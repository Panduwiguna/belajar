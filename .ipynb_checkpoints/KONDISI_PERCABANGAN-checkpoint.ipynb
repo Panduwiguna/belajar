{
 "cells": [
  {
   "cell_type": "code",
   "execution_count": 10,
   "id": "886b0c86-3319-4df0-9ef4-7cc3e1c22c63",
   "metadata": {},
   "outputs": [
    {
     "name": "stdin",
     "output_type": "stream",
     "text": [
      "Isikan umur anda :  -5\n"
     ]
    },
    {
     "name": "stdout",
     "output_type": "stream",
     "text": [
      "Umur tidak valid\n"
     ]
    }
   ],
   "source": [
    "#PERCABANGAN digunakan untuk mangarahkan sebuah alur program\n",
    "\n",
    "#INI PAKE CARA BATAS BAWAH\n",
    "usia = int(input(\"Isikan umur anda : \"))\n",
    "\n",
    "if usia >= 0:\n",
    "\n",
    "    \n",
    "    if usia  <= 12:\n",
    "        print(\"ini anak-anak\")\n",
    "    elif usia <= 17:\n",
    "        print(\"ini remaja\")\n",
    "    elif usia <= 59:\n",
    "        print(\"ini dewasa\")\n",
    "    else:\n",
    "        print(\"lansia\")\n",
    "else:\n",
    "    print(\"Umur tidak valid\")\n",
    "\n",
    "\n",
    "\n"
   ]
  },
  {
   "cell_type": "code",
   "execution_count": 12,
   "id": "158cf636-7ffc-4424-af7e-3ada47ecff50",
   "metadata": {},
   "outputs": [
    {
     "name": "stdin",
     "output_type": "stream",
     "text": [
      "Isikan umur anda :  60\n"
     ]
    },
    {
     "name": "stdout",
     "output_type": "stream",
     "text": [
      "Lansia\n"
     ]
    }
   ],
   "source": [
    "#INI PAKE CARA BATAS ATAS\n",
    "usia = int(input(\"Isikan umur anda : \"))\n",
    "if usia > 59:\n",
    "    print(\"Lansia\")\n",
    "elif usia > 17:\n",
    "    print(\"Dewasa\")\n",
    "elif usia > 12:\n",
    "    print(\"remaja\")\n",
    "else:\n",
    "    print(\"anak-anak\")"
   ]
  },
  {
   "cell_type": "code",
   "execution_count": 39,
   "id": "40e7b13a-cd3e-4926-9884-cca82ca12543",
   "metadata": {},
   "outputs": [
    {
     "name": "stdin",
     "output_type": "stream",
     "text": [
      "Isikan umur tiket 1 235\n",
      "Isikan umur tiket 2 44\n",
      "Isikan umur tiket 3 65\n"
     ]
    },
    {
     "name": "stdout",
     "output_type": "stream",
     "text": [
      "Tiket 1 : gratis\n",
      "totalBiaya : 0\n",
      "Tiket 1 : 25000\n",
      "totalBiaya : 25000\n",
      "Tiket 1 : gratis\n",
      "totalBiaya : 25000\n"
     ]
    }
   ],
   "source": [
    "Tiket1 = int(input(\"Isikan umur tiket 1\"))\n",
    "Tiket2 = int(input(\"Isikan umur tiket 2\"))\n",
    "Tiket3 = int(input(\"Isikan umur tiket 3\"))\n",
    "\n",
    "totalBiaya = 0\n",
    "if Tiket1 < 13:\n",
    "    print(\"Tiket 1 : 10000\")\n",
    "    totalBiaya = totalBiaya + 10000\n",
    "elif Tiket1 < 18:\n",
    "    print(\"Tiket 1 : 15000\")\n",
    "    totalBiaya = totalBiaya + 15000\n",
    "elif Tiket1 < 60:\n",
    "    print(\"Tiket 1 : 25000\")\n",
    "    totalBiaya = totalBiaya + 25000\n",
    "else :\n",
    "     print(\"Tiket 1 : gratis\")\n",
    "\n",
    "print(f\"totalBiaya : {totalBiaya}\")\n",
    "\n",
    "########################################\n",
    "\n",
    "if Tiket2 < 13:\n",
    "    print(\"Tiket 1 : 10000\")\n",
    "    totalBiaya = totalBiaya + 10000\n",
    "elif Tiket2 < 18:\n",
    "    print(\"Tiket 1 : 15000\")\n",
    "    totalBiaya = totalBiaya + 15000\n",
    "elif Tiket2 < 60:\n",
    "    print(\"Tiket 1 : 25000\")\n",
    "    totalBiaya = totalBiaya + 25000\n",
    "else:\n",
    "      print(\"Tiket 1 : gratis\")\n",
    "    \n",
    "print(f\"totalBiaya : {totalBiaya}\")\n",
    "\n",
    "###########################################\n",
    "\n",
    "if Tiket3 < 13:\n",
    "    print(\"Tiket 1 : 10000\")\n",
    "    totalBiaya = totalBiaya + 10000\n",
    "elif Tiket3 < 18:\n",
    "    print(\"Tiket 1 : 15000\")\n",
    "    totalBiaya = totalBiaya + 15000\n",
    "elif Tiket3 < 60:\n",
    "    print(\"Tiket 1 : 25000\")\n",
    "    totalBiaya = totalBiaya + 25000\n",
    "else:\n",
    "     print(\"Tiket 1 : gratis\")\n",
    "\n",
    "print(f\"totalBiaya : {totalBiaya}\")\n",
    "\n",
    "##########################################\n",
    "\n",
    "\n",
    "\n",
    "\n",
    "\n",
    "\n"
   ]
  },
  {
   "cell_type": "code",
   "execution_count": 45,
   "id": "d2e6051b-e3a0-404f-9975-02f3f236000c",
   "metadata": {},
   "outputs": [
    {
     "name": "stdin",
     "output_type": "stream",
     "text": [
      "Isikan niai rapor 95\n",
      "isikan penghasilan ortu 7_000_000\n"
     ]
    },
    {
     "name": "stdout",
     "output_type": "stream",
     "text": [
      "Mendapatkan beasiswa 50%\n"
     ]
    }
   ],
   "source": [
    "nilairapor = int(input(\"Isikan niai rapor\"))\n",
    "penghasilan = int(input(\"isikan penghasilan ortu\"))\n",
    "\n",
    "if nilairapor  >= 90 and penghasilan < 5_000_000:\n",
    "    print(\"Mendapatkan beasiswa penuh\")\n",
    "elif nilairapor  >= 80 and penghasilan < 8_000_000:\n",
    "    print(\"Mendapatkan beasiswa 50%\")\n",
    "else:\n",
    "    print(\"tidak mendapat beasiswa\")"
   ]
  },
  {
   "cell_type": "code",
   "execution_count": 59,
   "id": "f8878d0f-03ad-4d43-960c-87b7720ed955",
   "metadata": {},
   "outputs": [
    {
     "name": "stdin",
     "output_type": "stream",
     "text": [
      "jam masuk : 5\n",
      "jam keluar : 7\n"
     ]
    },
    {
     "name": "stdout",
     "output_type": "stream",
     "text": [
      " tarif mobil : 5000\n",
      " lama parkir : 2 jam\n",
      "Tambahan biaya lebih dari 5 jam : 10000\n",
      "total tarif parkir : 10000\n"
     ]
    }
   ],
   "source": [
    "##### jeniskendaraan = input(\"masukkan motor/mobil\")\n",
    "jammasuk = int(input(\"jam masuk :\"))\n",
    "jamkeluar = int(input(\"jam keluar :\"))\n",
    "\n",
    "tarifperjam = 0\n",
    "if jeniskendaraan == \"motor\":\n",
    "    tarifperjam = 2000\n",
    "elif jeniskendaraan == \"mobil\":\n",
    "    tarifperjam = 5000\n",
    "else:\n",
    "    print(\"tidak menerima selain motor atau mobil\")\n",
    "\n",
    "if jammasuk >= jamkeluar:\n",
    "    print(\"input jam masuk/keluar salah\")\n",
    "else:\n",
    "    totaltarif = (jamkeluar - jammasuk) * tarifperjam\n",
    "\n",
    "print(f\" tarif {jeniskendaraan} : {tarifperjam}\")\n",
    "print(f\" lama parkir : {jamkeluar - jammasuk} jam\")\n",
    "\n",
    "if jamkeluar - jammasuk >= 5:\n",
    "    totaltarif += 10000\n",
    "\n",
    "print(\"Tambahan biaya lebih dari 5 jam : 10000\")\n",
    "print(f\"total tarif parkir : {totaltarif}\")\n",
    "    \n",
    "    "
   ]
  },
  {
   "cell_type": "code",
   "execution_count": 71,
   "id": "68154318-82dc-4b81-8f55-7106ab39c888",
   "metadata": {},
   "outputs": [
    {
     "name": "stdin",
     "output_type": "stream",
     "text": [
      "masukkan nomor punggung :  12\n"
     ]
    },
    {
     "name": "stdout",
     "output_type": "stream",
     "text": [
      "kamu mempunyai pilihan posisi : target attacker \n"
     ]
    }
   ],
   "source": [
    "nomorpunggung = int(input(\"masukkan nomor punggung : \"))\n",
    "posisi = \"\"\n",
    "if nomorpunggung % 2 == 0:\n",
    "    posisi += \"target attacker\"\n",
    "    if nomorpunggung >= 50 and nomorpunggung <= 100:\n",
    "        posisi += \"berhak dipilih menjadi kapten\"\n",
    "else:\n",
    "    posisi += \"defender,\"\n",
    "    if nomorpunggung > 90:\n",
    "        posisi += \"playmaker\"\n",
    "    if nomorpunggung % 3 == 0 and nomorpunggung % 5 == 0:\n",
    "        posisi += \"keeper\"\n",
    "print(f\"kamu mempunyai pilihan posisi : {posisi} \")\n",
    "    "
   ]
  },
  {
   "cell_type": "code",
   "execution_count": 87,
   "id": "e9197685-b5d9-4744-9c56-89ea5c424e29",
   "metadata": {},
   "outputs": [
    {
     "name": "stdin",
     "output_type": "stream",
     "text": [
      "Masukkan nilai coding(0-100): 90\n",
      "Masukkan nilai interview :  A\n"
     ]
    },
    {
     "name": "stdout",
     "output_type": "stream",
     "text": [
      "Selamat kamu berhail menjadi calon programmer\n"
     ]
    }
   ],
   "source": [
    "nilaicoding = int(input(\"Masukkan nilai coding(0-100):\"))\n",
    "nilaiinterview = (input(\"Masukkan nilai interview : \"))\n",
    "hasilcoding = \"\"\n",
    "hasilinterview = \"\"\n",
    "\n",
    "\n",
    "if nilaicoding > 80:\n",
    "    hasilcoding = \"LOLOS\"\n",
    "elif nilaicoding > 60:\n",
    "    hasilcoding = \"DIPERTIMBANGKAN\"\n",
    "else:\n",
    "     hasilcoding = \"GAGAL\"\n",
    "\n",
    "if nilaiinterview == \"A\" or nilaiinterview == \"B\":\n",
    "     hasilinterview = \"LOLOS\"\n",
    "else:\n",
    "     hasilinterview = \"GAGAL\"\n",
    "\n",
    "if (hasilcoding == \"LOLOS\" or hasilcoding == \"DIPERTIMBANGKAN\") and hasilinterview == \"LOLOS\":\n",
    "    print(\"Selamat kamu berhail menjadi calon programmer\")\n",
    "else:\n",
    "    print(\"Maaf, kamu belum berhail menjadi calon programmer\")\n",
    "\n",
    "\n",
    "\n",
    "\n",
    "\n",
    "    \n",
    "\n"
   ]
  },
  {
   "cell_type": "code",
   "execution_count": null,
   "id": "8d6212f1-fe30-4c38-9c75-d60aa560c06f",
   "metadata": {},
   "outputs": [],
   "source": []
  }
 ],
 "metadata": {
  "kernelspec": {
   "display_name": "Python [conda env:base] *",
   "language": "python",
   "name": "conda-base-py"
  },
  "language_info": {
   "codemirror_mode": {
    "name": "ipython",
    "version": 3
   },
   "file_extension": ".py",
   "mimetype": "text/x-python",
   "name": "python",
   "nbconvert_exporter": "python",
   "pygments_lexer": "ipython3",
   "version": "3.12.9"
  }
 },
 "nbformat": 4,
 "nbformat_minor": 5
}
