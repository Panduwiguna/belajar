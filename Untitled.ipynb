{
 "cells": [
  {
   "cell_type": "code",
   "execution_count": 43,
   "id": "b07c35da-6da6-4aaf-af5b-fcf6281e2fa2",
   "metadata": {},
   "outputs": [
    {
     "name": "stdout",
     "output_type": "stream",
     "text": [
      "10\n",
      "9\n",
      "8\n",
      "7\n",
      "6\n",
      "5\n",
      "4\n",
      "3\n",
      "2\n",
      "1\n"
     ]
    }
   ],
   "source": [
    "for i in range(1,11):\n",
    "    print(11-i)"
   ]
  },
  {
   "cell_type": "code",
   "execution_count": 54,
   "id": "09bcd4c4-de45-428c-a89f-719ab7b0c857",
   "metadata": {},
   "outputs": [],
   "source": [
    "for i in range(5,5,1):\n",
    "    print(i)\n",
    "    i = i + 1\n",
    "    "
   ]
  },
  {
   "cell_type": "code",
   "execution_count": 56,
   "id": "0e60b4e2-dbd3-4b13-8cd9-b647a12747e1",
   "metadata": {},
   "outputs": [
    {
     "name": "stdout",
     "output_type": "stream",
     "text": [
      "2\n",
      "3\n",
      "4\n",
      "5\n",
      "6\n"
     ]
    }
   ],
   "source": [
    "i = 1\n",
    "while i <= 5:\n",
    "    i = i + 1\n",
    "    print(i)"
   ]
  },
  {
   "cell_type": "code",
   "execution_count": 60,
   "id": "5b20fab6-69bc-45ef-b4e3-0a1c52a355ef",
   "metadata": {},
   "outputs": [
    {
     "name": "stdin",
     "output_type": "stream",
     "text": [
      "masukkan nilai kamu : 20\n"
     ]
    },
    {
     "name": "stdout",
     "output_type": "stream",
     "text": [
      "makanya belajar\n"
     ]
    }
   ],
   "source": [
    "nilai = int(input(\"masukkan nilai kamu :\"))\n",
    "if nilai >= 90:\n",
    "    print(\"wih lulus euy\")\n",
    "else:\n",
    "    print(\"makanya belajar\")"
   ]
  },
  {
   "cell_type": "code",
   "execution_count": 7,
   "id": "e5a63f10-2b5f-40f1-a72c-9ec684575b53",
   "metadata": {},
   "outputs": [
    {
     "name": "stdin",
     "output_type": "stream",
     "text": [
      " 5\n",
      " 3\n"
     ]
    },
    {
     "name": "stdout",
     "output_type": "stream",
     "text": [
      "1\n",
      "1.6666666666666667\n"
     ]
    }
   ],
   "source": [
    "\n",
    "a = int(input().strip())\n",
    "b = int(input().strip())\n",
    "\n",
    "integer_division = a // b\n",
    "\n",
    "float_division = a / b\n",
    "\n",
    "print(integer_division)\n",
    "print(float_division)"
   ]
  },
  {
   "cell_type": "code",
   "execution_count": 27,
   "id": "abb33c63-819a-4e55-b261-cde66bd0e6f2",
   "metadata": {},
   "outputs": [
    {
     "name": "stdin",
     "output_type": "stream",
     "text": [
      "Masukkan input 3\n"
     ]
    },
    {
     "name": "stdout",
     "output_type": "stream",
     "text": [
      "123"
     ]
    }
   ],
   "source": [
    "n = int(input(\"Masukkan input\"))\n",
    "\n",
    "for i in range(1,4):\n",
    "    print(i, end='')"
   ]
  },
  {
   "cell_type": "code",
   "execution_count": 33,
   "id": "8cfb07cc-b174-4dfa-ac6b-d52dd135efba",
   "metadata": {},
   "outputs": [
    {
     "name": "stdin",
     "output_type": "stream",
     "text": [
      "Masukkan input 3\n"
     ]
    },
    {
     "name": "stdout",
     "output_type": "stream",
     "text": [
      "123"
     ]
    }
   ],
   "source": [
    "\n",
    "n = int(input(\"Masukkan input\"))\n",
    "\n",
    "for i in range(1, n + 1):\n",
    "    print(i, end='')"
   ]
  },
  {
   "cell_type": "code",
   "execution_count": null,
   "id": "1aee7108-04aa-4f0f-814b-910f0ceb00ab",
   "metadata": {},
   "outputs": [],
   "source": []
  }
 ],
 "metadata": {
  "kernelspec": {
   "display_name": "Python [conda env:base] *",
   "language": "python",
   "name": "conda-base-py"
  },
  "language_info": {
   "codemirror_mode": {
    "name": "ipython",
    "version": 3
   },
   "file_extension": ".py",
   "mimetype": "text/x-python",
   "name": "python",
   "nbconvert_exporter": "python",
   "pygments_lexer": "ipython3",
   "version": "3.12.9"
  }
 },
 "nbformat": 4,
 "nbformat_minor": 5
}
