{
 "cells": [
  {
   "cell_type": "code",
   "execution_count": 1,
   "id": "cedc3111-0833-4d37-9285-ea928bf375e5",
   "metadata": {},
   "outputs": [
    {
     "name": "stdout",
     "output_type": "stream",
     "text": [
      "Jadi apel yang akan diterima masing-masing teman budi adalah : 3.0\n",
      "jika budi mendapat tambahan 8 apel, maka hasilnya yaitu :  11.0\n"
     ]
    }
   ],
   "source": [
    "#OPERATOR ARITMETIKA\n",
    "\n",
    "buahbudi = 12\n",
    "teman_budi = 4\n",
    "print(\"Jadi apel yang akan diterima masing-masing teman budi adalah :\", buahbudi/teman_budi)\n",
    "print(\"jika budi mendapat tambahan 8 apel, maka hasilnya yaitu : \", (buahbudi/teman_budi) + 8)\n"
   ]
  },
  {
   "cell_type": "code",
   "execution_count": 7,
   "id": "5cb1094c-b9e7-4478-bbfc-bc539d5af2d7",
   "metadata": {},
   "outputs": [
    {
     "name": "stdout",
     "output_type": "stream",
     "text": [
      "Apakah tinggi siti dan andi sama? False\n",
      "Apakah tinggi siti tidak sama dengan dari tinggi andi? True\n",
      "Apakah siti lebih tinggi dari andi? False\n",
      "Apakah siti kurang tinggi dari andi? True\n",
      "Apakah siti memiliki tiggi lebih sama dengan andi? False\n",
      "Apakah siti memiliki tiggi kurang sama dengan andi? True\n"
     ]
    }
   ],
   "source": [
    "#OPERATOR PERBANDINGAN\n",
    "Tinggi_siti = 160\n",
    "Tinggi_Andi = 165\n",
    "\n",
    "print(\"Apakah tinggi siti dan andi sama?\", Tinggi_siti == Tinggi_Andi)\n",
    "print(\"Apakah tinggi siti tidak sama dengan dari tinggi andi?\",  Tinggi_siti != Tinggi_Andi)\n",
    "print(\"Apakah siti lebih tinggi dari andi?\",  Tinggi_siti > Tinggi_Andi)\n",
    "print(\"Apakah siti kurang tinggi dari andi?\",  Tinggi_siti < Tinggi_Andi)\n",
    "print(\"Apakah siti memiliki tiggi lebih sama dengan andi?\",  Tinggi_siti >= Tinggi_Andi)\n",
    "print(\"Apakah siti memiliki tiggi kurang sama dengan andi?\",  Tinggi_siti <= Tinggi_Andi)\n"
   ]
  },
  {
   "cell_type": "code",
   "execution_count": 9,
   "id": "a7efee99-825d-4f4b-a73e-f1f28fb5100e",
   "metadata": {},
   "outputs": [
    {
     "name": "stdin",
     "output_type": "stream",
     "text": [
      "apakah PR nya sudah selesai? (0/1) : 1\n",
      "apakah cuaca cerah? (0/1) :  1\n"
     ]
    },
    {
     "name": "stdout",
     "output_type": "stream",
     "text": [
      "apakah budi akan bermain : boleh\n"
     ]
    }
   ],
   "source": [
    "#OPERATOR LOGIKA\n",
    "isHomeworkDone = input(\"apakah PR nya sudah selesai? (0/1) :\")\n",
    "isWeatherClear = input(\"apakah cuaca cerah? (0/1) : \")\n",
    "\n",
    "if isHomeworkDone == \"1\" and isWeatherClear == \"1\":\n",
    "    budiCanPlay = \"boleh\"\n",
    "else:\n",
    "    budiCanPlay = \"jangan\"\n",
    "\n",
    "print(\"apakah budi akan bermain :\" , budiCanPlay)"
   ]
  },
  {
   "cell_type": "code",
   "execution_count": 17,
   "id": "e9f3651d-e97a-42ec-b68c-6db6457768b6",
   "metadata": {},
   "outputs": [
    {
     "name": "stdout",
     "output_type": "stream",
     "text": [
      "2\n",
      "7\n",
      "5\n"
     ]
    }
   ],
   "source": [
    "#OPERATOR BITWISE\n",
    "angka_1 = 6\n",
    "angka_2 = 3\n",
    "\n",
    "print(angka_1 & angka_2)\n",
    "print(angka_1 | angka_2)\n",
    "print(angka_1 ^ angka_2)\n"
   ]
  },
  {
   "cell_type": "code",
   "execution_count": 46,
   "id": "287138f5-f98f-4188-a597-978262bb7b4e",
   "metadata": {},
   "outputs": [
    {
     "name": "stdout",
     "output_type": "stream",
     "text": [
      "siswa memiliki saldo pulsa : 50000\n",
      "lalu dia mengisi ulang pulsa tersebut sebanyak 20.0000 dan hasilnya :  70000\n",
      "lalu dia beli paket internet sebanyak 30.000 maka hasilnya: 40000\n"
     ]
    }
   ],
   "source": [
    "#OPERATOR PENUGASAN\n",
    "saldopulsa = 50000\n",
    "print(\"siswa memiliki saldo pulsa :\", saldopulsa)\n",
    "saldopulsa+=20000\n",
    "print(\"lalu dia mengisi ulang pulsa tersebut sebanyak 20.0000 dan hasilnya : \", saldopulsa)\n",
    "saldopulsa-=30000\n",
    "print(\"lalu dia beli paket internet sebanyak 30.000 maka hasilnya:\", saldopulsa)\n",
    "\n"
   ]
  },
  {
   "cell_type": "code",
   "execution_count": 52,
   "id": "a078923b-bf5c-4876-b0c6-bf3053c7a2e6",
   "metadata": {},
   "outputs": [
    {
     "name": "stdout",
     "output_type": "stream",
     "text": [
      "apakah terdaftar?  False\n",
      "apakah kata python ada dalam kalimat? True\n"
     ]
    }
   ],
   "source": [
    "#OPERATOR KEANGGOTAAN\n",
    "nama = \"eka\"\n",
    "daftar_peserta_lomba = (\"andi\", \"budi\", \"citra\", \"dewi\")\n",
    "hasil =nama in daftar_peserta_lomba\n",
    "print(\"apakah terdaftar? \", hasil) \n",
    "\n",
    "kalimat = \"Saya suka belajar python\"\n",
    "kata = \"python\"\n",
    "cek_kata = kata in kalimat\n",
    "print(\"apakah kata\", kata, \"ada dalam kalimat?\", cek_kata)\n"
   ]
  },
  {
   "cell_type": "code",
   "execution_count": 61,
   "id": "1dfead0a-7a1e-4b85-b68d-f678eb237245",
   "metadata": {},
   "outputs": [
    {
     "name": "stdout",
     "output_type": "stream",
     "text": [
      "apakah x dan y mengacu pada objek? True\n",
      "apakah List1 dan list2 mengacu pada objek? False\n"
     ]
    }
   ],
   "source": [
    "#OPERATOR IDENTITAS\n",
    "x = 10\n",
    "y = 10\n",
    "hasil = x is y\n",
    "print(\"apakah x dan y mengacu pada objek?\", hasil)\n",
    "\n",
    "List_1 = (\"10\", \"20\", \"30\")\n",
    "List_2 = (\"30\", \"40\", \"50\")\n",
    "hasil = List_1 is List_2\n",
    "print(\"apakah List1 dan list2 mengacu pada objek?\", hasil)"
   ]
  },
  {
   "cell_type": "code",
   "execution_count": 85,
   "id": "cfe2a8c3-cfca-4924-9ea7-251589ba4ac6",
   "metadata": {},
   "outputs": [
    {
     "name": "stdout",
     "output_type": "stream",
     "text": [
      "70 tidak lebih besar dari 100\n",
      "120 lebih besar dari 100\n"
     ]
    },
    {
     "name": "stdin",
     "output_type": "stream",
     "text": [
      "isi nilai 40\n"
     ]
    },
    {
     "name": "stdout",
     "output_type": "stream",
     "text": [
      "Tidak lulus\n"
     ]
    },
    {
     "name": "stdin",
     "output_type": "stream",
     "text": [
      "isi nilai 90\n"
     ]
    },
    {
     "name": "stdout",
     "output_type": "stream",
     "text": [
      "Lulus\n"
     ]
    }
   ],
   "source": [
    "#OPERATOR TERNARY\n",
    "A = 70\n",
    "hasil_A = \"lebih besar dari 100\" if A > 100 else \"tidak lebih besar dari 100\"\n",
    "print(A, hasil)\n",
    "\n",
    "B = 120\n",
    "hasil_B = \"lebih besar dari 100\" if B > 100 else \"tidak lebih besar dari 100\"\n",
    "print(B, hasil_B)\n",
    "\n",
    "nilai_ujian_pertama = int(input(\"isi nilai\"))\n",
    "status_pertama = \"lulus\" if nilai_ujian_pertama > 70 else \"Tidak lulus\"\n",
    "print(status_pertama)\n",
    "\n",
    "nilai_ujian_kedua = int(input(\"isi nilai\"))\n",
    "status_kedua =\"Lulus\" if nilai_ujian_kedua > 70 else \"Tidak lulus\"\n",
    "print(status_kedua)\n",
    "\n"
   ]
  },
  {
   "cell_type": "code",
   "execution_count": null,
   "id": "01065e90-ef8d-45da-a907-02c43ad82443",
   "metadata": {},
   "outputs": [],
   "source": []
  },
  {
   "cell_type": "code",
   "execution_count": null,
   "id": "84822502-5a01-4630-ae86-5cd7871fb642",
   "metadata": {},
   "outputs": [],
   "source": []
  },
  {
   "cell_type": "code",
   "execution_count": null,
   "id": "a8b6d84d-de65-4237-a344-90d38f3126c0",
   "metadata": {},
   "outputs": [],
   "source": []
  },
  {
   "cell_type": "code",
   "execution_count": null,
   "id": "14fabc83-1938-4e67-aa8b-b9aa33951379",
   "metadata": {},
   "outputs": [],
   "source": []
  }
 ],
 "metadata": {
  "kernelspec": {
   "display_name": "Python [conda env:base] *",
   "language": "python",
   "name": "conda-base-py"
  },
  "language_info": {
   "codemirror_mode": {
    "name": "ipython",
    "version": 3
   },
   "file_extension": ".py",
   "mimetype": "text/x-python",
   "name": "python",
   "nbconvert_exporter": "python",
   "pygments_lexer": "ipython3",
   "version": "3.12.9"
  }
 },
 "nbformat": 4,
 "nbformat_minor": 5
}
