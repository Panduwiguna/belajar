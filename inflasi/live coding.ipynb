{
 "cells": [
  {
   "cell_type": "code",
   "execution_count": null,
   "id": "24ba5630-e52c-42b9-a8dd-824c4fce7e08",
   "metadata": {},
   "outputs": [],
   "source": [
    "import pandas as pd\n",
    "import matplotlib.pyplot as plt\n",
    "\n",
    "# Muat data Anda dari file CSV ke dalam DataFrame bernama 'df'\n",
    "df = pd.read_csv('data.csv')\n",
    "\n",
    "# Sekarang, kode asli Anda akan berfungsi:\n",
    "mean_inflasi = df['INFLASI'].mean()\n",
    "std_inflasi = df['INFLASI'].std()\n",
    "\n",
    "plt.errorbar(['Inflasi'], [mean_inflasi], yerr=[std_inflasi], fmt='o', capsize=5, label=f'Mean: {mean_inflasi:.2f} +/- Std Dev: {std_inflasi:.2f}')\n",
    "plt.title('Mean dan Standard Deviasi Inflasi')\n",
    "plt.ylabel('Tingkat Inflasi (%)')\n",
    "plt.legend()\n",
    "plt.grid(axis='y', linestyle='--', alpha=0.7)\n",
    "plt.show()\n",
    "\n",
    "mean_gdp = df['GDP'].mean()\n",
    "std_gdp = df['GDP'].std()\n",
    "plt.errorbar(['GDP'], [mean_gdp], yerr=[std_gdp], fmt='o', capsize=5, label=f'Mean: {mean_gdp:.2f} +/- Std Dev: {std_gdp:.2f}')\n",
    "plt.title('Mean dan Standard Deviasi GDP')\n",
    "plt.ylabel('Pertumbuhan GDP (%)')\n",
    "plt.legend()\n",
    "plt.grid(axis='y', linestyle='--', alpha=0.7)\n",
    "plt.show()"
   ]
  },
  {
   "cell_type": "code",
   "execution_count": null,
   "id": "82799299-f04a-4611-965a-f660b73e9a56",
   "metadata": {},
   "outputs": [],
   "source": []
  }
 ],
 "metadata": {
  "kernelspec": {
   "display_name": "Python [conda env:base] *",
   "language": "python",
   "name": "conda-base-py"
  },
  "language_info": {
   "codemirror_mode": {
    "name": "ipython",
    "version": 3
   },
   "file_extension": ".py",
   "mimetype": "text/x-python",
   "name": "python",
   "nbconvert_exporter": "python",
   "pygments_lexer": "ipython3",
   "version": "3.12.9"
  }
 },
 "nbformat": 4,
 "nbformat_minor": 5
}
